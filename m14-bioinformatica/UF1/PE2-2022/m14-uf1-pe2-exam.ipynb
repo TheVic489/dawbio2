{
 "cells": [
  {
   "cell_type": "markdown",
   "id": "012b2c9c-c595-4e1e-8b67-9abccd1b5f40",
   "metadata": {},
   "source": [
    "# Prova escrita 2 - Estadística.\n",
    "\n",
    "La WHO (OMS) ha quedat impressionada amb les pràctiques que heu realitzat a DAWBIO2 aquest curs i és per això \n",
    "que us encarrega resoldre preguntes importants sobre el dataset adjunt **incidence-rate-2021-raw.csv**\n",
    ", que recopila la incidència de les enfermetats en tot el món.\n",
    "Si extraieu gràfics, coneixement i conclusions rellevants segur que voldran contractar-vos. \n",
    "\n",
    "## Autor: <victor-piñana-cortes>\n",
    "\n",
    "### Observacions:\n",
    "#### Consulta al professor quan hagis aconseguit cada gràfic que es demana.\n",
    "#### Els gràfics de la carpeta output són orientatius, no és necessari que us quedin igual; l'important és resoldre les preguntes.\n",
    "#### Pots utilitzar més d'un fitxer Jupyter Notebook per a fer l'examen si et va bé, o fitxers de Python.\n",
    "#### Molts ànims!\n",
    "\n",
    "## Part 1. Preguntes bàsiques, gestió de valors NA, gràfic bàsic i outliers. (3 punts)\n",
    "\n",
    "### 1.1 Preguntes bàsiques. 1 punts.\n",
    "### 1.2 Gràfic de files de cada GROUP. 1 punts.\n",
    "### 1.3 Gràfic d'outliers. 1 punts.\n",
    "\n",
    "Us donem el codi de la importació i el context de les dades.\n",
    "\n",
    "### Importació del Dataset.\n",
    "\n",
    "Mostrem les primeres files i els dtypes de cada columna."
   ]
  },
  {
   "cell_type": "code",
   "execution_count": 200,
   "id": "7cd312b8-1973-4a24-875c-475c950f1f83",
   "metadata": {},
   "outputs": [],
   "source": [
    "import numpy as np\n",
    "import pandas as pd\n",
    "import seaborn as sns\n",
    "import matplotlib.pyplot as plt\n",
    "import copy"
   ]
  },
  {
   "cell_type": "code",
   "execution_count": 201,
   "id": "aed1e284-f334-48af-a0a3-500de2f64e8d",
   "metadata": {},
   "outputs": [
    {
     "name": "stdout",
     "output_type": "stream",
     "text": [
      "GROUP                   object\n",
      "CODE                    object\n",
      "NAME                    object\n",
      "YEAR                     int64\n",
      "DISEASE                 object\n",
      "DISEASE_DESCRIPTION     object\n",
      "DENOMINATOR             object\n",
      "INCIDENCE_RATE         float64\n",
      "dtype: object\n",
      "        GROUP CODE   NAME  YEAR     DISEASE          DISEASE_DESCRIPTION  \\\n",
      "0   COUNTRIES  ABW  Aruba  2021         CRS  Congenital rubella syndrome   \n",
      "1   COUNTRIES  ABW  Aruba  2021  DIPHTHERIA                   Diphtheria   \n",
      "2   COUNTRIES  ABW  Aruba  2021     MEASLES                      Measles   \n",
      "3   COUNTRIES  ABW  Aruba  2021       MUMPS                        Mumps   \n",
      "4   COUNTRIES  ABW  Aruba  2021    NTETANUS             Neonatal tetanus   \n",
      "5   COUNTRIES  ABW  Aruba  2021   PERTUSSIS                    Pertussis   \n",
      "6   COUNTRIES  ABW  Aruba  2021       POLIO                Poliomyelitis   \n",
      "7   COUNTRIES  ABW  Aruba  2021     RUBELLA                      Rubella   \n",
      "8   COUNTRIES  ABW  Aruba  2021    TTETANUS                Total tetanus   \n",
      "9   COUNTRIES  ABW  Aruba  2021      YFEVER                 Yellow fever   \n",
      "10  COUNTRIES  ABW  Aruba  2019         CRS  Congenital rubella syndrome   \n",
      "11  COUNTRIES  ABW  Aruba  2019  DIPHTHERIA                   Diphtheria   \n",
      "12  COUNTRIES  ABW  Aruba  2019      JAPENC        Japanese encephalitis   \n",
      "13  COUNTRIES  ABW  Aruba  2019     MEASLES                      Measles   \n",
      "14  COUNTRIES  ABW  Aruba  2019       MUMPS                        Mumps   \n",
      "15  COUNTRIES  ABW  Aruba  2019    NTETANUS             Neonatal tetanus   \n",
      "16  COUNTRIES  ABW  Aruba  2019   PERTUSSIS                    Pertussis   \n",
      "17  COUNTRIES  ABW  Aruba  2019       POLIO                Poliomyelitis   \n",
      "18  COUNTRIES  ABW  Aruba  2019     RUBELLA                      Rubella   \n",
      "19  COUNTRIES  ABW  Aruba  2019      YFEVER                 Yellow fever   \n",
      "\n",
      "                       DENOMINATOR  INCIDENCE_RATE  \n",
      "0           per 10,000 live births             0.0  \n",
      "1   per 1,000,000 total population             0.0  \n",
      "2   per 1,000,000 total population             0.0  \n",
      "3   per 1,000,000 total population             0.0  \n",
      "4            per 1,000 live births             0.0  \n",
      "5   per 1,000,000 total population             0.0  \n",
      "6     per 1,000,000 <15 population             0.0  \n",
      "7   per 1,000,000 total population             0.0  \n",
      "8   per 1,000,000 total population             0.0  \n",
      "9   per 1,000,000 total population             0.0  \n",
      "10          per 10,000 live births             0.0  \n",
      "11  per 1,000,000 total population             0.0  \n",
      "12  per 1,000,000 total population             NaN  \n",
      "13  per 1,000,000 total population             9.4  \n",
      "14  per 1,000,000 total population             9.4  \n",
      "15           per 1,000 live births             0.0  \n",
      "16  per 1,000,000 total population             0.0  \n",
      "17    per 1,000,000 <15 population             0.0  \n",
      "18  per 1,000,000 total population             0.0  \n",
      "19  per 1,000,000 total population             0.0  \n"
     ]
    }
   ],
   "source": [
    "incidence_raw = pd.read_csv(\"incidence-rate-2021-raw.csv\", sep=';', decimal=\".\")\n",
    "\n",
    "incidence_new = copy.deepcopy(incidence_raw)\n",
    "\n",
    "print(incidence_raw.dtypes)\n",
    "\n",
    "print(incidence_raw.head(20))"
   ]
  },
  {
   "cell_type": "markdown",
   "id": "e31cb267-68e4-4fdb-85f2-6b9d7d073cc4",
   "metadata": {},
   "source": [
    "### Pregunta 1.1 -> Preguntes bàsiques: files, tipus de dades, NA's\n",
    "\n",
    "#### Explicació del context. Què son aquestes dades? Posar referències.\n",
    "\n",
    "Representen els ratios d'incidencia de casos de diferents enfermedades contagioses en molts països. \n",
    "Aquest ratio està representat pel camp **INCIDENCE_RATE.**\n",
    "\n",
    "S'utilitzen diverses maneres de calcular aquestes ratios, ho indica el camp **DENOMINATOR.**\n",
    "No és el mateix mesurar 'per 1,000,000 total population' que ';per 1,000,000 <15 population'\n",
    "\n",
    "**GROUP** Pot ser un país, una agrupació de països o un estat.\n",
    "\n",
    "**CODE** és la abreviatura del nom del país/estat/grup **NAME** .\n",
    "\n",
    "**DISEASE** és el nom de la enfermetat.\n",
    "\n",
    "**YEAR**: Des de 1980 a 2021\n",
    "\n",
    "#### Referència:\n",
    "\n",
    "Dataset extret del portal Inmunization Data, de la WHO (la OMS)\n",
    "\n",
    "[https://immunizationdata.who.int/listing.html?topic=&location=]"
   ]
  },
  {
   "cell_type": "markdown",
   "id": "c647ef68-1bf1-4d17-80bb-339e4c993229",
   "metadata": {},
   "source": [
    "#### Quantes files té el dataset ? "
   ]
  },
  {
   "cell_type": "code",
   "execution_count": 202,
   "id": "d29f4fb1",
   "metadata": {},
   "outputs": [
    {
     "data": {
      "text/plain": [
       "79448"
      ]
     },
     "execution_count": 202,
     "metadata": {},
     "output_type": "execute_result"
    }
   ],
   "source": [
    "len (incidence_new)"
   ]
  },
  {
   "cell_type": "markdown",
   "id": "865ac829",
   "metadata": {},
   "source": [
    "### Llista els valors possibles que poden tenir els camps DENOMINATOR, el GROUP i el DISEASE."
   ]
  },
  {
   "cell_type": "code",
   "execution_count": 203,
   "id": "754203d4",
   "metadata": {},
   "outputs": [
    {
     "data": {
      "text/plain": [
       "array(['per 10,000 live births', 'per 1,000,000 total population',\n",
       "       'per 1,000 live births', 'per 1,000,000 <15 population',\n",
       "       'per 1000 live births'], dtype=object)"
      ]
     },
     "execution_count": 203,
     "metadata": {},
     "output_type": "execute_result"
    }
   ],
   "source": [
    "incidence_new.loc[:,\"DENOMINATOR\"].unique()"
   ]
  },
  {
   "cell_type": "code",
   "execution_count": 204,
   "id": "121720fb",
   "metadata": {},
   "outputs": [
    {
     "data": {
      "text/plain": [
       "array(['COUNTRIES', 'WHO_REGIONS', 'GLOBAL'], dtype=object)"
      ]
     },
     "execution_count": 204,
     "metadata": {},
     "output_type": "execute_result"
    }
   ],
   "source": [
    "incidence_new.loc[:,\"GROUP\"].unique()"
   ]
  },
  {
   "cell_type": "code",
   "execution_count": 205,
   "id": "38fb02d3",
   "metadata": {},
   "outputs": [
    {
     "data": {
      "text/plain": [
       "array(['CRS', 'DIPHTHERIA', 'MEASLES', 'MUMPS', 'NTETANUS', 'PERTUSSIS',\n",
       "       'POLIO', 'RUBELLA', 'TTETANUS', 'YFEVER', 'JAPENC'], dtype=object)"
      ]
     },
     "execution_count": 205,
     "metadata": {},
     "output_type": "execute_result"
    }
   ],
   "source": [
    "incidence_new.loc[:,\"DISEASE\"].unique()"
   ]
  },
  {
   "cell_type": "markdown",
   "id": "9398166a",
   "metadata": {},
   "source": [
    "### Hi ha NAs? En quines columnes ? Quina columna en té més ? "
   ]
  },
  {
   "cell_type": "code",
   "execution_count": 206,
   "id": "b9fbe5d0",
   "metadata": {},
   "outputs": [
    {
     "data": {
      "text/plain": [
       "GROUP                      0\n",
       "CODE                       0\n",
       "NAME                       0\n",
       "YEAR                       0\n",
       "DISEASE                    0\n",
       "DISEASE_DESCRIPTION        0\n",
       "DENOMINATOR                0\n",
       "INCIDENCE_RATE         18637\n",
       "dtype: int64"
      ]
     },
     "execution_count": 206,
     "metadata": {},
     "output_type": "execute_result"
    }
   ],
   "source": [
    "# La columna INCIDENCE_RATE en té molts.\n",
    "incidence_new.isna().sum()\n",
    "\n"
   ]
  },
  {
   "cell_type": "markdown",
   "id": "db2f09c2",
   "metadata": {},
   "source": [
    "### Quin percentatge de valors NA hi ha a la columna que en té més ? "
   ]
  },
  {
   "cell_type": "code",
   "execution_count": 207,
   "id": "de202db6",
   "metadata": {},
   "outputs": [
    {
     "name": "stdout",
     "output_type": "stream",
     "text": [
      "GROUP                   0.000000\n",
      "CODE                    0.000000\n",
      "NAME                    0.000000\n",
      "YEAR                    0.000000\n",
      "DISEASE                 0.000000\n",
      "DISEASE_DESCRIPTION     0.000000\n",
      "DENOMINATOR             0.000000\n",
      "INCIDENCE_RATE         23.458111\n",
      "dtype: float64\n"
     ]
    }
   ],
   "source": [
    "# El 23,4% dels valors son NA\n",
    "print(incidence_new.isna().sum() / len(incidence_new)*100)"
   ]
  },
  {
   "cell_type": "markdown",
   "id": "c4b77519",
   "metadata": {},
   "source": [
    "### Resultat final preguntes bàsiques. Guarda totes les files que tinguin com a GROUP=COUNTRIES en un fitxer, i com a GROUP=GLOBAL en un altre fitxer.\n",
    "\n",
    "<em> No oblidis eliminar la columna GROUP, ja que ja no servirà. </em>"
   ]
  },
  {
   "cell_type": "code",
   "execution_count": 208,
   "id": "e7c997a0",
   "metadata": {},
   "outputs": [
    {
     "name": "stdout",
     "output_type": "stream",
     "text": [
      "GROUP                   object\n",
      "CODE                    object\n",
      "NAME                    object\n",
      "YEAR                     int64\n",
      "DISEASE                 object\n",
      "DISEASE_DESCRIPTION     object\n",
      "DENOMINATOR             object\n",
      "INCIDENCE_RATE         float64\n",
      "dtype: object\n",
      "GROUP                   object\n",
      "CODE                    object\n",
      "NAME                    object\n",
      "YEAR                     int64\n",
      "DISEASE                 object\n",
      "DISEASE_DESCRIPTION     object\n",
      "DENOMINATOR             object\n",
      "INCIDENCE_RATE         float64\n",
      "dtype: object\n"
     ]
    }
   ],
   "source": [
    "# COUNTRIES\n",
    "mask_countries = incidence_new.loc[:,\"GROUP\"] == \"COUNTRIES\"\n",
    "\n",
    "df_incidence_countries = incidence_new.loc[mask_countries,:]\n",
    "\n",
    "print(df_incidence_countries.dtypes)\n",
    "\n",
    "df_incidence_countries.to_csv('incidence_rate_2020_countries.csv', index=False, sep=';', decimal=\",\")\n",
    "\n",
    "# GLOBAL\n",
    "mask_global = incidence_new.loc[:,\"GROUP\"] == \"GLOBAL\"\n",
    "\n",
    "df_incidence_global = incidence_new.loc[mask_global,:]\n",
    "\n",
    "print(df_incidence_global.dtypes)\n",
    "\n",
    "df_incidence_global.to_csv('incidence_rate_2020_global.csv', index=False, sep=';', decimal=\",\")"
   ]
  },
  {
   "cell_type": "markdown",
   "id": "d7d760b0-d1a9-4fd7-bafa-b2b8af7bfdc5",
   "metadata": {},
   "source": [
    "### Pregunta 1.2 -> Crea un gràfic (de barres o circular) que mostri el número de files que hi ha de cada valor de la columna GROUP.\n",
    "\n",
    "Hi ha 3 tipus de GROUP: COUNTRIES, GLOBAL i WHO_REGIONS.\n"
   ]
  },
  {
   "cell_type": "code",
   "execution_count": 216,
   "id": "8c4ba1e2",
   "metadata": {},
   "outputs": [
    {
     "data": {
      "text/plain": [
       "<AxesSubplot:xlabel='GROUP', ylabel='count'>"
      ]
     },
     "execution_count": 216,
     "metadata": {},
     "output_type": "execute_result"
    },
    {
     "data": {
      "image/png": "[encoded data removed]",
      "text/plain": [
       "<Figure size 432x288 with 1 Axes>"
      ]
     },
     "metadata": {
      "needs_background": "light"
     },
     "output_type": "display_data"
    }
   ],
   "source": [
    "\n",
    "sns.countplot(data=incidence_new, x='GROUP')"
   ]
  },
  {
   "cell_type": "markdown",
   "id": "a05cb88e-c05b-46f2-8f40-4cec26c66f02",
   "metadata": {},
   "source": [
    "### Pregunta 1.3 -> Gràfics d'Outliers de les enfermetats d'un país.\n",
    "\n",
    "**Des del dataframe resultant de la pregunta 1.1; o bé des del fitxer <em>incidence_rate_2021_countries.csv<em> crea un gràfic plotbox de les enfermetats d'un país (el que tu vulguis), únicament de les que es mesuren amb el denominador: 'per 1,000,000 total population'.**\n",
    "\n",
    "**Després, mostra les 5 files d'outliers més alts (les més allunyades de la mitjana)**\n"
   ]
  },
  {
   "cell_type": "markdown",
   "id": "80346a41",
   "metadata": {},
   "source": [
    "\n",
    "<em>Pista: Recomanem fer-lo amb seaborn, que permet seleccionar quina fila (x) i columna (y) volem posar al gràfic<em>"
   ]
  },
  {
   "cell_type": "code",
   "execution_count": 217,
   "id": "1dd1a4cc",
   "metadata": {},
   "outputs": [
    {
     "data": {
      "text/plain": [
       "<AxesSubplot:xlabel='INCIDENCE_RATE', ylabel='DISEASE'>"
      ]
     },
     "execution_count": 217,
     "metadata": {},
     "output_type": "execute_result"
    },
    {
     "data": {
      "image/png": "[encoded data removed]",
      "text/plain": [
       "<Figure size 432x288 with 1 Axes>"
      ]
     },
     "metadata": {
      "needs_background": "light"
     },
     "output_type": "display_data"
    }
   ],
   "source": [
    "df_incidence_countries_zimbabwe_por = df_incidence_countries.query(\"NAME == 'Portugal'\")\n",
    "df_incidence_countries_por_denominator = df_incidence_countries_zimbabwe_por.query(\"DENOMINATOR == 'per 1,000,000 total population'\")\n",
    "\n",
    "sns.boxplot(data=df_incidence_countries_por_denominator, x='INCIDENCE_RATE', y='DISEASE')"
   ]
  },
  {
   "cell_type": "code",
   "execution_count": 211,
   "id": "1ad2c47d",
   "metadata": {},
   "outputs": [
    {
     "data": {
      "text/html": [
       "<div>\n",
       "<style scoped>\n",
       "    .dataframe tbody tr th:only-of-type {\n",
       "        vertical-align: middle;\n",
       "    }\n",
       "\n",
       "    .dataframe tbody tr th {\n",
       "        vertical-align: top;\n",
       "    }\n",
       "\n",
       "    .dataframe thead th {\n",
       "        text-align: right;\n",
       "    }\n",
       "</style>\n",
       "<table border=\"1\" class=\"dataframe\">\n",
       "  <thead>\n",
       "    <tr style=\"text-align: right;\">\n",
       "      <th></th>\n",
       "      <th>GROUP</th>\n",
       "      <th>CODE</th>\n",
       "      <th>NAME</th>\n",
       "      <th>YEAR</th>\n",
       "      <th>DISEASE</th>\n",
       "      <th>DISEASE_DESCRIPTION</th>\n",
       "      <th>DENOMINATOR</th>\n",
       "      <th>INCIDENCE_RATE</th>\n",
       "      <th>Distancia a la mediana</th>\n",
       "    </tr>\n",
       "  </thead>\n",
       "  <tbody>\n",
       "    <tr>\n",
       "      <th>58432</th>\n",
       "      <td>COUNTRIES</td>\n",
       "      <td>PRT</td>\n",
       "      <td>Portugal</td>\n",
       "      <td>1989</td>\n",
       "      <td>MEASLES</td>\n",
       "      <td>Measles</td>\n",
       "      <td>per 1,000,000 total population</td>\n",
       "      <td>1176.7</td>\n",
       "      <td>1175.7</td>\n",
       "    </tr>\n",
       "    <tr>\n",
       "      <th>58352</th>\n",
       "      <td>COUNTRIES</td>\n",
       "      <td>PRT</td>\n",
       "      <td>Portugal</td>\n",
       "      <td>2000</td>\n",
       "      <td>MUMPS</td>\n",
       "      <td>Mumps</td>\n",
       "      <td>per 1,000,000 total population</td>\n",
       "      <td>630.4</td>\n",
       "      <td>629.4</td>\n",
       "    </tr>\n",
       "    <tr>\n",
       "      <th>58397</th>\n",
       "      <td>COUNTRIES</td>\n",
       "      <td>PRT</td>\n",
       "      <td>Portugal</td>\n",
       "      <td>1994</td>\n",
       "      <td>MEASLES</td>\n",
       "      <td>Measles</td>\n",
       "      <td>per 1,000,000 total population</td>\n",
       "      <td>322.4</td>\n",
       "      <td>321.4</td>\n",
       "    </tr>\n",
       "    <tr>\n",
       "      <th>58361</th>\n",
       "      <td>COUNTRIES</td>\n",
       "      <td>PRT</td>\n",
       "      <td>Portugal</td>\n",
       "      <td>1999</td>\n",
       "      <td>MUMPS</td>\n",
       "      <td>Mumps</td>\n",
       "      <td>per 1,000,000 total population</td>\n",
       "      <td>308.1</td>\n",
       "      <td>307.1</td>\n",
       "    </tr>\n",
       "    <tr>\n",
       "      <th>58439</th>\n",
       "      <td>COUNTRIES</td>\n",
       "      <td>PRT</td>\n",
       "      <td>Portugal</td>\n",
       "      <td>1988</td>\n",
       "      <td>MEASLES</td>\n",
       "      <td>Measles</td>\n",
       "      <td>per 1,000,000 total population</td>\n",
       "      <td>228.0</td>\n",
       "      <td>227.0</td>\n",
       "    </tr>\n",
       "  </tbody>\n",
       "</table>\n",
       "</div>"
      ],
      "text/plain": [
       "           GROUP CODE      NAME  YEAR  DISEASE DISEASE_DESCRIPTION  \\\n",
       "58432  COUNTRIES  PRT  Portugal  1989  MEASLES             Measles   \n",
       "58352  COUNTRIES  PRT  Portugal  2000    MUMPS               Mumps   \n",
       "58397  COUNTRIES  PRT  Portugal  1994  MEASLES             Measles   \n",
       "58361  COUNTRIES  PRT  Portugal  1999    MUMPS               Mumps   \n",
       "58439  COUNTRIES  PRT  Portugal  1988  MEASLES             Measles   \n",
       "\n",
       "                          DENOMINATOR  INCIDENCE_RATE  Distancia a la mediana  \n",
       "58432  per 1,000,000 total population          1176.7                  1175.7  \n",
       "58352  per 1,000,000 total population           630.4                   629.4  \n",
       "58397  per 1,000,000 total population           322.4                   321.4  \n",
       "58361  per 1,000,000 total population           308.1                   307.1  \n",
       "58439  per 1,000,000 total population           228.0                   227.0  "
      ]
     },
     "execution_count": 211,
     "metadata": {},
     "output_type": "execute_result"
    }
   ],
   "source": [
    "#Podemos calcular la mediana de edad de la siguiente manera:\n",
    "incidence_median = df_incidence_countries_por[\"INCIDENCE_RATE\"].median()\n",
    "\n",
    "#Luego, podemos calcular la distancia de cada fila a la mediana y agregar una nueva columna para almacenar esas distancias:\n",
    "df_incidence_countries_por[\"Distancia a la mediana\"] = df_incidence_countries_por[\"INCIDENCE_RATE\"].abs().sub(incidence_median)\n",
    " \n",
    "# Luego mostramos las 5 primeras lineas de forma descendente de la fila creada\n",
    "df_incidence_countries_por.sort_values(\"Distancia a la mediana\", ascending=False).head(5)"
   ]
  },
  {
   "cell_type": "markdown",
   "id": "ceb1f275-35b8-4fed-aae0-7d3d7dbfa043",
   "metadata": {},
   "source": [
    "## Part 2 - Fes dues gràfiques d'incidència de les enfermetats: (2,5 punts)\n",
    "\n",
    "### Una on es vegi la incidència de les enfermetats d'un país(el que tu vulguis) des del 1980 fins el 2021, ambdós inclosos.\n",
    "### Una altre on es vegi la incidència de les enfermetats a nivell global (files on el camp GROUP=GLOBAL, també dels anys 1980-2021 ambdós inclosos.\n",
    "\n",
    "### Filtrarem les enfermetats pels valors de la columna DENOMINATOR = 'per 1,000,000 total population' "
   ]
  },
  {
   "cell_type": "code",
   "execution_count": 212,
   "id": "856e450f",
   "metadata": {},
   "outputs": [
    {
     "data": {
      "text/plain": [
       "<AxesSubplot:xlabel='YEAR', ylabel='INCIDENCE_RATE'>"
      ]
     },
     "execution_count": 212,
     "metadata": {},
     "output_type": "execute_result"
    },
    {
     "data": {
      "image/png": "[encoded data removed]",
      "text/plain": [
       "<Figure size 432x288 with 1 Axes>"
      ]
     },
     "metadata": {
      "needs_background": "light"
     },
     "output_type": "display_data"
    }
   ],
   "source": [
    "df_incidence_countries_por = df_incidence_countries.query(\"NAME == 'Portugal'\")\n",
    "df_incidence_countries_por = df_incidence_countries_por.query(\"DENOMINATOR == 'per 1,000,000 total population'\")\n",
    "\n",
    "sns.lineplot(data=df_incidence_countries_por, x=\"YEAR\", y=\"INCIDENCE_RATE\", hue=\"DISEASE\")\n"
   ]
  },
  {
   "cell_type": "code",
   "execution_count": 213,
   "id": "5091c864",
   "metadata": {},
   "outputs": [
    {
     "data": {
      "text/plain": [
       "<AxesSubplot:xlabel='INCIDENCE_RATE', ylabel='DISEASE'>"
      ]
     },
     "execution_count": 213,
     "metadata": {},
     "output_type": "execute_result"
    },
    {
     "data": {
      "image/png": "[encoded data removed]",
      "text/plain": [
       "<Figure size 432x288 with 1 Axes>"
      ]
     },
     "metadata": {
      "needs_background": "light"
     },
     "output_type": "display_data"
    }
   ],
   "source": [
    "df_incidence_glob_denom = df_incidence_global.query(\"DENOMINATOR == 'per 1,000,000 total population'\")\n",
    "\n",
    "sns.boxplot(data=df_incidence_glob_denom, x='INCIDENCE_RATE', y='DISEASE')\n"
   ]
  },
  {
   "cell_type": "markdown",
   "id": "5cff9289",
   "metadata": {},
   "source": [
    "## Part 3. Crea un gràfic que serveixi per comparar les dades d'una enfermetat amb molta incidència (per exemple MEASLES) a una agrupació de països del món que tingui almenys 3 països. Afegeix una fila més (2,5 punts)\n",
    "\n",
    "Pots limitar els anys que apareixen al gràfic (pex 1980 - 1999) si creus que no aporten dades significatives.\n",
    "\n",
    "Exemple: Incidència del xarampió als països del sud del Mediterrani. ['Morocco', 'Algeria', 'Libya', 'Egypt', 'Jordan', 'Israel']"
   ]
  },
  {
   "cell_type": "code",
   "execution_count": 214,
   "id": "e4d0b1c4",
   "metadata": {},
   "outputs": [
    {
     "name": "stdout",
     "output_type": "stream",
     "text": [
      "['Algeria' 'Egypt' 'France' 'Italy' 'Malta' 'Portugal']\n"
     ]
    },
    {
     "data": {
      "text/plain": [
       "<AxesSubplot:xlabel='YEAR', ylabel='INCIDENCE_RATE'>"
      ]
     },
     "execution_count": 214,
     "metadata": {},
     "output_type": "execute_result"
    },
    {
     "data": {
      "image/png": "[encoded data removed]",
      "text/plain": [
       "<Figure size 1440x720 with 1 Axes>"
      ]
     },
     "metadata": {
      "needs_background": "light"
     },
     "output_type": "display_data"
    }
   ],
   "source": [
    "df_incidence_countries_measles = copy.deepcopy(df_incidence_countries)\n",
    "\n",
    "# Only Measles\n",
    "df_incidence_countries_measles = df_incidence_countries_measles.query(\"DISEASE == 'MEASLES' & YEAR < 1999\")\n",
    "df_incidence_countries_measles = df_incidence_countries_measles.query(\"DISEASE == 'MEASLES'\")\n",
    "\n",
    "#Only some countries.\n",
    "med_countries: list[str] = ['France', 'Portugal', 'Algeria', 'Egypt', 'Italy', 'Malta']\n",
    "\n",
    "#'Croatia', 'Türkiye', 'Greece', 'Lebanon' \n",
    "\n",
    "df_incidence_countries_measles = df_incidence_countries_measles[df_incidence_countries_measles['NAME'].isin(med_countries)]\n",
    "\n",
    "print(df_incidence_countries_measles['NAME'].unique())\n",
    "\n",
    "plt.figure(figsize=(20, 10))\n",
    "sns.barplot(data=df_incidence_countries_measles, x=\"YEAR\", y=\"INCIDENCE_RATE\", hue=\"NAME\")"
   ]
  },
  {
   "cell_type": "markdown",
   "id": "a040e220-f3cd-4034-87e0-083018728bd4",
   "metadata": {},
   "source": [
    "## Part 4. Taula de coeficients de correlació entre enfermetats en un país. (2 punts)\n",
    "\n",
    "Ens demanen comparar la correlació entre 4 enfermetats amb força incidència; per saber si existeix correlació entre elles.\n",
    "\n",
    "Pots triar el país que vulguis on fer l'estudi; si no saps quin pots triar Espanya.\n",
    "\n",
    "Les enfermetats a estudiar són:\n",
    "\n",
    "1. PERTUSSIS\n",
    "2. MEASELS\n",
    "3. MUMPS\n",
    "4. RUBELLA\n",
    "\n",
    "#### Pistes\n",
    "* Tal i com estan organitzats els dataframes no ho podràs fer; hauràs de crear un altre dataframe que tingui una fila amb l'any, \n",
    "les demés 4 files els valors d'incidència de cada enfermetat.\n",
    "* Fixa't com ha de quedar la matriu, al fitxer q4_incidence_rate_matrix.csv\n",
    "* Us facilitem un mètode que, juntament amb les operacions de concaternació, us ajudarà a formar la matriu.\n",
    "* Un cop tinguis organitzada la matriu, el mètode <strong>corr</strong> és el que obté els coeficients de correlació valors entre (-1 , +1)\n"
   ]
  },
  {
   "cell_type": "markdown",
   "id": "ac0f67aa",
   "metadata": {},
   "source": [
    "#### Primer, creo 2 dataframes que tinguin el radi d'incidència per any de 2 enfermetats i després les fusiono en un únic dataframe, que és el que aplicaré el gràfic.\n",
    "\n",
    "Per facilitar aquesta creació creo una següent funció.\n",
    "\n",
    "La forma del dataframe resultat ha de tenir la següent estructura:\n"
   ]
  },
  {
   "cell_type": "code",
   "execution_count": 215,
   "id": "4c9739ad",
   "metadata": {},
   "outputs": [
    {
     "data": {
      "text/plain": [
       "<AxesSubplot:>"
      ]
     },
     "execution_count": 215,
     "metadata": {},
     "output_type": "execute_result"
    },
    {
     "data": {
      "image/png": "[encoded data removed]",
      "text/plain": [
       "<Figure size 864x1296 with 2 Axes>"
      ]
     },
     "metadata": {
      "needs_background": "light"
     },
     "output_type": "display_data"
    }
   ],
   "source": [
    "## Funció auxiliar que, donat el nom d'una enfermetat i el dataframe sencer,\n",
    "## et retorna un datafame amb 2 files, l'any i el incidence_rate de la enfermetat.\n",
    "def dataframe_incidence_rate_eachyear_bydisease(disease: str, df: pd.DataFrame, country: str):\n",
    "    result = df.query(f\"NAME == '{country}'\")\n",
    "    result = result.query(\"DISEASE == @disease\")\n",
    "    result = result.loc[:,['YEAR','INCIDENCE_RATE']]\n",
    "    result = result.set_index(\"YEAR\")\n",
    "    result = result.rename(columns={\"INCIDENCE_RATE\":disease})\n",
    "    return result\n",
    "# La funcio te un nou parametre per que li pasis el país que vulguis\n",
    "\n",
    "df_incidence_pertussis = dataframe_incidence_rate_eachyear_bydisease('PERTUSSIS',df_incidence_countries, 'Portugal')\n",
    "df_incidence_measles   = dataframe_incidence_rate_eachyear_bydisease('MEASLES',df_incidence_countries, 'Portugal')\n",
    "df_incidence_mumps     = dataframe_incidence_rate_eachyear_bydisease('MUMPS',df_incidence_countries, 'Portugal')\n",
    "df_incidence_ruballa   = dataframe_incidence_rate_eachyear_bydisease('RUBELLA',df_incidence_countries, 'Portugal')\n",
    "\n",
    "corr_matrix = pd.concat([df_incidence_measles ,df_incidence_mumps,df_incidence_ruballa,df_incidence_pertussis], axis=1, join=\"inner\")\n",
    "plt.figure(figsize=(12, 18))\n",
    "sns.heatmap(corr_matrix.corr(method='pearson'), annot=True)"
   ]
  },
  {
   "cell_type": "markdown",
   "id": "cb15f9af",
   "metadata": {},
   "source": [
    "Un cop tenim els 4 dataframes, els podem concatenar per tal de tenir una matriu amb les incidències de cada enfermetat.\n",
    "\n",
    "Finalment, podem aplicar la funció corr per obtenir una matriu \n",
    "de la correlació entre cada variable, amb valors dins l'intèrval (-1, +1)"
   ]
  },
  {
   "cell_type": "markdown",
   "id": "0327ca20-e6c4-4635-b258-b064c191158d",
   "metadata": {},
   "source": [
    "### Creus que hi ha correlació entre aquestes 4 enfermetats ? "
   ]
  },
  {
   "cell_type": "markdown",
   "id": "45a94083",
   "metadata": {},
   "source": [
    "La màxima correlació que hi ha entre les enfermetats arriba a ser 0,23. No trobo un valor massa alt per a dir que exsisteix una correlació"
   ]
  }
 ],
 "metadata": {
  "kernelspec": {
   "display_name": "Python 3.10.4 ('bio')",
   "language": "python",
   "name": "python3"
  },
  "language_info": {
   "codemirror_mode": {
    "name": "ipython",
    "version": 3
   },
   "file_extension": ".py",
   "mimetype": "text/x-python",
   "name": "python",
   "nbconvert_exporter": "python",
   "pygments_lexer": "ipython3",
   "version": "3.10.4"
  },
  "toc-autonumbering": true,
  "vscode": {
   "interpreter": {
    "hash": "75644d1bbe802a7a08b91152a9fb1d5024e3b0b7f6a281757a9820df136ccfae"
   }
  }
 },
 "nbformat": 4,
 "nbformat_minor": 5
}
