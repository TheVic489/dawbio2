{
 "cells": [
  {
   "cell_type": "markdown",
   "id": "012b2c9c-c595-4e1e-8b67-9abccd1b5f40",
   "metadata": {},
   "source": [
    "# Simulacre Prova escrita 2 - Estadística.\n",
    "\n",
    "## Autor: <victor_piñana_cortes>\n",
    "\n",
    "#### Consulta al professor quan hagis aconseguit cada gràfic que es demana.\n",
    "\n",
    "#### Criteris d'avaluació.\n",
    "\n",
    "##### Part 1 = 3,5 punts, Part 2 = 2,5 punts, Part 3 = 2 punts, Part 4 = 2 punts. Total = 10 punts.\n",
    "\n",
    "<hr/>\n",
    "\n",
    "## Part 1. Preguntes bàsiques, gestió de valors NA, i outliers. (3,5 punts)\n",
    "\n",
    "### Preguntes bàsiques. 1.5 punts.\n",
    "### Gràfic d'outliers. 2 punts.\n",
    "\n",
    "Us donem el codi de la importació i el context de les dades.\n",
    "\n",
    "### Importació del Dataset"
   ]
  },
  {
   "cell_type": "code",
   "execution_count": 72,
   "id": "7cd312b8-1973-4a24-875c-475c950f1f83",
   "metadata": {},
   "outputs": [],
   "source": [
    "import numpy as np\n",
    "import pandas as pd\n",
    "import seaborn as sns\n",
    "import matplotlib.pyplot as plt\n",
    "import copy"
   ]
  },
  {
   "cell_type": "code",
   "execution_count": 73,
   "id": "aed1e284-f334-48af-a0a3-500de2f64e8d",
   "metadata": {},
   "outputs": [
    {
     "name": "stdout",
     "output_type": "stream",
     "text": [
      "GROUP                   object\n",
      "CODE                    object\n",
      "NAME                    object\n",
      "YEAR                     int64\n",
      "DISEASE                 object\n",
      "DISEASE_DESCRIPTION     object\n",
      "DENOMINATOR             object\n",
      "INCIDENCE_RATE         float64\n",
      "dtype: object\n",
      "          GROUP CODE            NAME  YEAR     DISEASE DISEASE_DESCRIPTION  \\\n",
      "0     Countries  AFG     Afghanistan  1980      YFEVER        Yellow fever   \n",
      "1     Countries  AFG     Afghanistan  1980    NTETANUS    Neonatal tetanus   \n",
      "2     Countries  AFG     Afghanistan  1980    TTETANUS       Total tetanus   \n",
      "3     Countries  AFG     Afghanistan  1980     MEASLES             Measles   \n",
      "4     Countries  AFG     Afghanistan  1980       POLIO       Poliomyelitis   \n",
      "5     Countries  AFG     Afghanistan  1980  DIPHTHERIA          Diphtheria   \n",
      "6     Countries  AFG     Afghanistan  1980   PERTUSSIS           Pertussis   \n",
      "7   WHO Regions  afr  African Region  1980  DIPHTHERIA          Diphtheria   \n",
      "8   WHO Regions  afr  African Region  1980      YFEVER        Yellow fever   \n",
      "9   WHO Regions  afr  African Region  1980    TTETANUS       Total tetanus   \n",
      "10  WHO Regions  afr  African Region  1980   PERTUSSIS           Pertussis   \n",
      "11  WHO Regions  afr  African Region  1980    NTETANUS    Neonatal tetanus   \n",
      "12  WHO Regions  afr  African Region  1980     MEASLES             Measles   \n",
      "13  WHO Regions  afr  African Region  1980       POLIO       Poliomyelitis   \n",
      "14    Countries  AGO          Angola  1980   PERTUSSIS           Pertussis   \n",
      "15    Countries  AGO          Angola  1980    NTETANUS    Neonatal tetanus   \n",
      "16    Countries  AGO          Angola  1980     MEASLES             Measles   \n",
      "17    Countries  AGO          Angola  1980      YFEVER        Yellow fever   \n",
      "18    Countries  AGO          Angola  1980  DIPHTHERIA          Diphtheria   \n",
      "19    Countries  AGO          Angola  1980    TTETANUS       Total tetanus   \n",
      "\n",
      "                       DENOMINATOR  INCIDENCE_RATE  \n",
      "0   per 1,000,000 total population             0.0  \n",
      "1            per 1,000 live births             0.0  \n",
      "2   per 1,000,000 total population           121.1  \n",
      "3   per 1,000,000 total population          2429.9  \n",
      "4     per 1,000,000 <15 population           142.7  \n",
      "5   per 1,000,000 total population           145.2  \n",
      "6   per 1,000,000 total population          1179.1  \n",
      "7   per 1,000,000 total population            25.0  \n",
      "8   per 1,000,000 total population             0.3  \n",
      "9   per 1,000,000 total population            51.0  \n",
      "10  per 1,000,000 total population          1180.0  \n",
      "11            per 1000 live births             0.6  \n",
      "12  per 1,000,000 total population          3443.8  \n",
      "13    per 1,000,000 <15 population            30.7  \n",
      "14  per 1,000,000 total population          6488.9  \n",
      "15           per 1,000 live births             1.3  \n",
      "16  per 1,000,000 total population          3555.3  \n",
      "17  per 1,000,000 total population             NaN  \n",
      "18  per 1,000,000 total population             0.0  \n",
      "19  per 1,000,000 total population           142.1  \n"
     ]
    }
   ],
   "source": [
    "incidence_raw = pd.read_csv(\"incidence-rate-2020.csv\", sep=';', decimal=\",\")\n",
    "\n",
    "incidence_new = copy.deepcopy(incidence_raw)\n",
    "\n",
    "print(incidence_raw.dtypes)\n",
    "\n",
    "print(incidence_raw.head(20))"
   ]
  },
  {
   "cell_type": "markdown",
   "id": "e31cb267-68e4-4fdb-85f2-6b9d7d073cc4",
   "metadata": {},
   "source": [
    "### Explicació del context. Què son aquestes dades? Posar referències.\n",
    "\n",
    "Representen els ratios d'incidencia de casos de diferents enfermedades contagioses en molts països. \n",
    "Aquest ratio està representat pel camp **INCIDENCE_RATE.**\n",
    "\n",
    "S'utilitzen diverses maneres de calcular aquestes ratios, ho indica el camp **DENOMINATOR.**\n",
    "No és el mateix mesurar 'per 1,000,000 total population' que ';per 1,000,000 <15 population'\n",
    "\n",
    "**GROUP** Pot ser un país, una agrupació de països o un estat.\n",
    "\n",
    "**CODE** és la abreviatura del nom del país/estat/grup **NAME** .\n",
    "\n",
    "**DISEASE** és el nom de la enfermetat.\n",
    "\n",
    "**YEAR**: Des de 1980 a 2021\n",
    "\n",
    "#### Referència:\n",
    "\n",
    "Dataset extret del portal Inmunization Data, de la WHO (la OMS)\n",
    "\n",
    "[https://immunizationdata.who.int/listing.html?topic=&location=]"
   ]
  },
  {
   "cell_type": "markdown",
   "id": "c647ef68-1bf1-4d17-80bb-339e4c993229",
   "metadata": {},
   "source": [
    "#### Quantes files té el dataset ? "
   ]
  },
  {
   "cell_type": "code",
   "execution_count": 74,
   "id": "aed1e284-f334-48af-a0a3-500de2f64e8d",
   "metadata": {},
   "outputs": [
    {
     "data": {
      "text/plain": [
       "72138"
      ]
     },
     "execution_count": 74,
     "metadata": {},
     "output_type": "execute_result"
    }
   ],
   "source": [
    "# Posa aquí el teu codi\n",
    "incidence_new.shape[0] "
   ]
  },
  {
   "cell_type": "markdown",
   "id": "865ac829",
   "metadata": {},
   "source": [
    "### Llista els valors possibles que poden tenir els camps DENOMINATOR i el DISEASE."
   ]
  },
  {
   "cell_type": "code",
   "execution_count": 75,
   "id": "758045f3-1e52-4e56-a670-48d5048e0c34",
   "metadata": {},
   "outputs": [
    {
     "data": {
      "text/plain": [
       "array(['per 1,000,000 total population', 'per 1,000 live births',\n",
       "       'per 1,000,000 <15 population', 'per 1000 live births',\n",
       "       'per 10,000 live births'], dtype=object)"
      ]
     },
     "execution_count": 75,
     "metadata": {},
     "output_type": "execute_result"
    }
   ],
   "source": [
    "# Posa aquí el teu codi\n",
    "incidence_raw['DENOMINATOR'].unique()\n"
   ]
  },
  {
   "cell_type": "code",
   "execution_count": 76,
   "id": "1ead96c9",
   "metadata": {},
   "outputs": [
    {
     "data": {
      "text/plain": [
       "array(['YFEVER', 'NTETANUS', 'TTETANUS', 'MEASLES', 'POLIO', 'DIPHTHERIA',\n",
       "       'PERTUSSIS', 'CRS', 'RUBELLA', 'MUMPS', 'JAPENC'], dtype=object)"
      ]
     },
     "execution_count": 76,
     "metadata": {},
     "output_type": "execute_result"
    }
   ],
   "source": [
    "# Posa aquí el teu codi\n",
    "incidence_raw['DISEASE'].unique()"
   ]
  },
  {
   "cell_type": "markdown",
   "id": "ea52cb18",
   "metadata": {},
   "source": [
    "### Optimització del dataframe.\n",
    "\n",
    "Elimina la fila \"DISEASE_DESCRIPTION\". No és necessari tenir aquesta fila dins d'aquesta taula.\n",
    "\n",
    "En SQL aquests valors estarien en una taula apart, accessible des d'una foreign key comuna entre les 2 taules, que seria DISEASE."
   ]
  },
  {
   "cell_type": "code",
   "execution_count": 77,
   "id": "bd3e9210",
   "metadata": {},
   "outputs": [
    {
     "data": {
      "text/html": [
       "<div>\n",
       "<style scoped>\n",
       "    .dataframe tbody tr th:only-of-type {\n",
       "        vertical-align: middle;\n",
       "    }\n",
       "\n",
       "    .dataframe tbody tr th {\n",
       "        vertical-align: top;\n",
       "    }\n",
       "\n",
       "    .dataframe thead th {\n",
       "        text-align: right;\n",
       "    }\n",
       "</style>\n",
       "<table border=\"1\" class=\"dataframe\">\n",
       "  <thead>\n",
       "    <tr style=\"text-align: right;\">\n",
       "      <th></th>\n",
       "      <th>GROUP</th>\n",
       "      <th>CODE</th>\n",
       "      <th>NAME</th>\n",
       "      <th>YEAR</th>\n",
       "      <th>DISEASE</th>\n",
       "      <th>DENOMINATOR</th>\n",
       "      <th>INCIDENCE_RATE</th>\n",
       "    </tr>\n",
       "  </thead>\n",
       "  <tbody>\n",
       "    <tr>\n",
       "      <th>0</th>\n",
       "      <td>Countries</td>\n",
       "      <td>AFG</td>\n",
       "      <td>Afghanistan</td>\n",
       "      <td>1980</td>\n",
       "      <td>YFEVER</td>\n",
       "      <td>per 1,000,000 total population</td>\n",
       "      <td>0.0</td>\n",
       "    </tr>\n",
       "    <tr>\n",
       "      <th>1</th>\n",
       "      <td>Countries</td>\n",
       "      <td>AFG</td>\n",
       "      <td>Afghanistan</td>\n",
       "      <td>1980</td>\n",
       "      <td>NTETANUS</td>\n",
       "      <td>per 1,000 live births</td>\n",
       "      <td>0.0</td>\n",
       "    </tr>\n",
       "    <tr>\n",
       "      <th>2</th>\n",
       "      <td>Countries</td>\n",
       "      <td>AFG</td>\n",
       "      <td>Afghanistan</td>\n",
       "      <td>1980</td>\n",
       "      <td>TTETANUS</td>\n",
       "      <td>per 1,000,000 total population</td>\n",
       "      <td>121.1</td>\n",
       "    </tr>\n",
       "    <tr>\n",
       "      <th>3</th>\n",
       "      <td>Countries</td>\n",
       "      <td>AFG</td>\n",
       "      <td>Afghanistan</td>\n",
       "      <td>1980</td>\n",
       "      <td>MEASLES</td>\n",
       "      <td>per 1,000,000 total population</td>\n",
       "      <td>2429.9</td>\n",
       "    </tr>\n",
       "    <tr>\n",
       "      <th>4</th>\n",
       "      <td>Countries</td>\n",
       "      <td>AFG</td>\n",
       "      <td>Afghanistan</td>\n",
       "      <td>1980</td>\n",
       "      <td>POLIO</td>\n",
       "      <td>per 1,000,000 &lt;15 population</td>\n",
       "      <td>142.7</td>\n",
       "    </tr>\n",
       "    <tr>\n",
       "      <th>...</th>\n",
       "      <td>...</td>\n",
       "      <td>...</td>\n",
       "      <td>...</td>\n",
       "      <td>...</td>\n",
       "      <td>...</td>\n",
       "      <td>...</td>\n",
       "      <td>...</td>\n",
       "    </tr>\n",
       "    <tr>\n",
       "      <th>72133</th>\n",
       "      <td>Countries</td>\n",
       "      <td>ZWE</td>\n",
       "      <td>Zimbabwe</td>\n",
       "      <td>2020</td>\n",
       "      <td>MEASLES</td>\n",
       "      <td>per 1,000,000 total population</td>\n",
       "      <td>0.2</td>\n",
       "    </tr>\n",
       "    <tr>\n",
       "      <th>72134</th>\n",
       "      <td>Countries</td>\n",
       "      <td>ZWE</td>\n",
       "      <td>Zimbabwe</td>\n",
       "      <td>2020</td>\n",
       "      <td>RUBELLA</td>\n",
       "      <td>per 1,000,000 total population</td>\n",
       "      <td>0.9</td>\n",
       "    </tr>\n",
       "    <tr>\n",
       "      <th>72135</th>\n",
       "      <td>Countries</td>\n",
       "      <td>ZWE</td>\n",
       "      <td>Zimbabwe</td>\n",
       "      <td>2020</td>\n",
       "      <td>POLIO</td>\n",
       "      <td>per 1,000,000 &lt;15 population</td>\n",
       "      <td>0.0</td>\n",
       "    </tr>\n",
       "    <tr>\n",
       "      <th>72136</th>\n",
       "      <td>Countries</td>\n",
       "      <td>ZWE</td>\n",
       "      <td>Zimbabwe</td>\n",
       "      <td>2020</td>\n",
       "      <td>DIPHTHERIA</td>\n",
       "      <td>per 1,000,000 total population</td>\n",
       "      <td>0.0</td>\n",
       "    </tr>\n",
       "    <tr>\n",
       "      <th>72137</th>\n",
       "      <td>Countries</td>\n",
       "      <td>ZWE</td>\n",
       "      <td>Zimbabwe</td>\n",
       "      <td>2020</td>\n",
       "      <td>NTETANUS</td>\n",
       "      <td>per 1,000 live births</td>\n",
       "      <td>0.0</td>\n",
       "    </tr>\n",
       "  </tbody>\n",
       "</table>\n",
       "<p>72138 rows × 7 columns</p>\n",
       "</div>"
      ],
      "text/plain": [
       "           GROUP CODE         NAME  YEAR     DISEASE  \\\n",
       "0      Countries  AFG  Afghanistan  1980      YFEVER   \n",
       "1      Countries  AFG  Afghanistan  1980    NTETANUS   \n",
       "2      Countries  AFG  Afghanistan  1980    TTETANUS   \n",
       "3      Countries  AFG  Afghanistan  1980     MEASLES   \n",
       "4      Countries  AFG  Afghanistan  1980       POLIO   \n",
       "...          ...  ...          ...   ...         ...   \n",
       "72133  Countries  ZWE     Zimbabwe  2020     MEASLES   \n",
       "72134  Countries  ZWE     Zimbabwe  2020     RUBELLA   \n",
       "72135  Countries  ZWE     Zimbabwe  2020       POLIO   \n",
       "72136  Countries  ZWE     Zimbabwe  2020  DIPHTHERIA   \n",
       "72137  Countries  ZWE     Zimbabwe  2020    NTETANUS   \n",
       "\n",
       "                          DENOMINATOR  INCIDENCE_RATE  \n",
       "0      per 1,000,000 total population             0.0  \n",
       "1               per 1,000 live births             0.0  \n",
       "2      per 1,000,000 total population           121.1  \n",
       "3      per 1,000,000 total population          2429.9  \n",
       "4        per 1,000,000 <15 population           142.7  \n",
       "...                               ...             ...  \n",
       "72133  per 1,000,000 total population             0.2  \n",
       "72134  per 1,000,000 total population             0.9  \n",
       "72135    per 1,000,000 <15 population             0.0  \n",
       "72136  per 1,000,000 total population             0.0  \n",
       "72137           per 1,000 live births             0.0  \n",
       "\n",
       "[72138 rows x 7 columns]"
      ]
     },
     "metadata": {},
     "output_type": "display_data"
    }
   ],
   "source": [
    "# Posa aquí el teu codi\n",
    "incidence_raw.drop(columns='DISEASE_DESCRIPTION', inplace=True)\n",
    "\n",
    "display(incidence_raw)\n"
   ]
  },
  {
   "cell_type": "markdown",
   "id": "9398166a",
   "metadata": {},
   "source": [
    "### Hi ha NAs? En quines columnes ? Quina columna en té més ? "
   ]
  },
  {
   "cell_type": "code",
   "execution_count": 78,
   "id": "efadab0f-ca3c-4903-a854-47585943ab0e",
   "metadata": {},
   "outputs": [
    {
     "name": "stdout",
     "output_type": "stream",
     "text": [
      "GROUP  CODE   NAME   YEAR   DISEASE  DENOMINATOR  INCIDENCE_RATE\n",
      "False  False  False  False  False    False        False             55802\n",
      "                                                  True              16336\n",
      "dtype: int64\n",
      "GROUP             0\n",
      "CODE              0\n",
      "NAME              0\n",
      "YEAR              0\n",
      "DISEASE           0\n",
      "DENOMINATOR       0\n",
      "INCIDENCE_RATE    0\n",
      "dtype: int64\n"
     ]
    }
   ],
   "source": [
    "# Posa aquí el teu codi\n",
    "print(incidence_raw.isnull().value_counts())\n",
    "print(incidence_raw.isnull().isna().sum())\n",
    "\n",
    "\n",
    "# NO Hi ha Nas\n",
    "# Pero si, valors 0, a INCIDENCE_RATE"
   ]
  },
  {
   "cell_type": "markdown",
   "id": "d7d760b0-d1a9-4fd7-bafa-b2b8af7bfdc5",
   "metadata": {},
   "source": [
    "### Separar el dataframe en 2 parts: les files que tenen el GROUP = Countries i els que tenen GROUP = WHO_REGIONS.\n",
    "\n",
    "#### Guarda els 2 dataframes en 2 fitxers. Us proporcionem una còpia dels fitxers a la carpeta output per si no us surt."
   ]
  },
  {
   "cell_type": "code",
   "execution_count": 79,
   "id": "99d6c3dd-0258-4c2d-8142-458602894989",
   "metadata": {},
   "outputs": [
    {
     "data": {
      "text/html": [
       "<div>\n",
       "<style scoped>\n",
       "    .dataframe tbody tr th:only-of-type {\n",
       "        vertical-align: middle;\n",
       "    }\n",
       "\n",
       "    .dataframe tbody tr th {\n",
       "        vertical-align: top;\n",
       "    }\n",
       "\n",
       "    .dataframe thead th {\n",
       "        text-align: right;\n",
       "    }\n",
       "</style>\n",
       "<table border=\"1\" class=\"dataframe\">\n",
       "  <thead>\n",
       "    <tr style=\"text-align: right;\">\n",
       "      <th></th>\n",
       "      <th>GROUP</th>\n",
       "      <th>CODE</th>\n",
       "      <th>NAME</th>\n",
       "      <th>YEAR</th>\n",
       "      <th>DISEASE</th>\n",
       "      <th>DENOMINATOR</th>\n",
       "      <th>INCIDENCE_RATE</th>\n",
       "    </tr>\n",
       "  </thead>\n",
       "  <tbody>\n",
       "    <tr>\n",
       "      <th>0</th>\n",
       "      <td>Countries</td>\n",
       "      <td>AFG</td>\n",
       "      <td>Afghanistan</td>\n",
       "      <td>1980</td>\n",
       "      <td>YFEVER</td>\n",
       "      <td>per 1,000,000 total population</td>\n",
       "      <td>0.0</td>\n",
       "    </tr>\n",
       "    <tr>\n",
       "      <th>1</th>\n",
       "      <td>Countries</td>\n",
       "      <td>AFG</td>\n",
       "      <td>Afghanistan</td>\n",
       "      <td>1980</td>\n",
       "      <td>NTETANUS</td>\n",
       "      <td>per 1,000 live births</td>\n",
       "      <td>0.0</td>\n",
       "    </tr>\n",
       "    <tr>\n",
       "      <th>2</th>\n",
       "      <td>Countries</td>\n",
       "      <td>AFG</td>\n",
       "      <td>Afghanistan</td>\n",
       "      <td>1980</td>\n",
       "      <td>TTETANUS</td>\n",
       "      <td>per 1,000,000 total population</td>\n",
       "      <td>121.1</td>\n",
       "    </tr>\n",
       "    <tr>\n",
       "      <th>3</th>\n",
       "      <td>Countries</td>\n",
       "      <td>AFG</td>\n",
       "      <td>Afghanistan</td>\n",
       "      <td>1980</td>\n",
       "      <td>MEASLES</td>\n",
       "      <td>per 1,000,000 total population</td>\n",
       "      <td>2429.9</td>\n",
       "    </tr>\n",
       "    <tr>\n",
       "      <th>4</th>\n",
       "      <td>Countries</td>\n",
       "      <td>AFG</td>\n",
       "      <td>Afghanistan</td>\n",
       "      <td>1980</td>\n",
       "      <td>POLIO</td>\n",
       "      <td>per 1,000,000 &lt;15 population</td>\n",
       "      <td>142.7</td>\n",
       "    </tr>\n",
       "    <tr>\n",
       "      <th>...</th>\n",
       "      <td>...</td>\n",
       "      <td>...</td>\n",
       "      <td>...</td>\n",
       "      <td>...</td>\n",
       "      <td>...</td>\n",
       "      <td>...</td>\n",
       "      <td>...</td>\n",
       "    </tr>\n",
       "    <tr>\n",
       "      <th>69548</th>\n",
       "      <td>Countries</td>\n",
       "      <td>ZWE</td>\n",
       "      <td>Zimbabwe</td>\n",
       "      <td>2020</td>\n",
       "      <td>MEASLES</td>\n",
       "      <td>per 1,000,000 total population</td>\n",
       "      <td>0.2</td>\n",
       "    </tr>\n",
       "    <tr>\n",
       "      <th>69549</th>\n",
       "      <td>Countries</td>\n",
       "      <td>ZWE</td>\n",
       "      <td>Zimbabwe</td>\n",
       "      <td>2020</td>\n",
       "      <td>RUBELLA</td>\n",
       "      <td>per 1,000,000 total population</td>\n",
       "      <td>0.9</td>\n",
       "    </tr>\n",
       "    <tr>\n",
       "      <th>69550</th>\n",
       "      <td>Countries</td>\n",
       "      <td>ZWE</td>\n",
       "      <td>Zimbabwe</td>\n",
       "      <td>2020</td>\n",
       "      <td>POLIO</td>\n",
       "      <td>per 1,000,000 &lt;15 population</td>\n",
       "      <td>0.0</td>\n",
       "    </tr>\n",
       "    <tr>\n",
       "      <th>69551</th>\n",
       "      <td>Countries</td>\n",
       "      <td>ZWE</td>\n",
       "      <td>Zimbabwe</td>\n",
       "      <td>2020</td>\n",
       "      <td>DIPHTHERIA</td>\n",
       "      <td>per 1,000,000 total population</td>\n",
       "      <td>0.0</td>\n",
       "    </tr>\n",
       "    <tr>\n",
       "      <th>69552</th>\n",
       "      <td>Countries</td>\n",
       "      <td>ZWE</td>\n",
       "      <td>Zimbabwe</td>\n",
       "      <td>2020</td>\n",
       "      <td>NTETANUS</td>\n",
       "      <td>per 1,000 live births</td>\n",
       "      <td>0.0</td>\n",
       "    </tr>\n",
       "  </tbody>\n",
       "</table>\n",
       "<p>69553 rows × 7 columns</p>\n",
       "</div>"
      ],
      "text/plain": [
       "           GROUP CODE         NAME  YEAR     DISEASE  \\\n",
       "0      Countries  AFG  Afghanistan  1980      YFEVER   \n",
       "1      Countries  AFG  Afghanistan  1980    NTETANUS   \n",
       "2      Countries  AFG  Afghanistan  1980    TTETANUS   \n",
       "3      Countries  AFG  Afghanistan  1980     MEASLES   \n",
       "4      Countries  AFG  Afghanistan  1980       POLIO   \n",
       "...          ...  ...          ...   ...         ...   \n",
       "69548  Countries  ZWE     Zimbabwe  2020     MEASLES   \n",
       "69549  Countries  ZWE     Zimbabwe  2020     RUBELLA   \n",
       "69550  Countries  ZWE     Zimbabwe  2020       POLIO   \n",
       "69551  Countries  ZWE     Zimbabwe  2020  DIPHTHERIA   \n",
       "69552  Countries  ZWE     Zimbabwe  2020    NTETANUS   \n",
       "\n",
       "                          DENOMINATOR INCIDENCE_RATE  \n",
       "0      per 1,000,000 total population            0.0  \n",
       "1               per 1,000 live births            0.0  \n",
       "2      per 1,000,000 total population          121.1  \n",
       "3      per 1,000,000 total population         2429.9  \n",
       "4        per 1,000,000 <15 population          142.7  \n",
       "...                               ...            ...  \n",
       "69548  per 1,000,000 total population            0.2  \n",
       "69549  per 1,000,000 total population            0.9  \n",
       "69550    per 1,000,000 <15 population            0.0  \n",
       "69551  per 1,000,000 total population            0.0  \n",
       "69552           per 1,000 live births            0.0  \n",
       "\n",
       "[69553 rows x 7 columns]"
      ]
     },
     "metadata": {},
     "output_type": "display_data"
    },
    {
     "data": {
      "text/html": [
       "<div>\n",
       "<style scoped>\n",
       "    .dataframe tbody tr th:only-of-type {\n",
       "        vertical-align: middle;\n",
       "    }\n",
       "\n",
       "    .dataframe tbody tr th {\n",
       "        vertical-align: top;\n",
       "    }\n",
       "\n",
       "    .dataframe thead th {\n",
       "        text-align: right;\n",
       "    }\n",
       "</style>\n",
       "<table border=\"1\" class=\"dataframe\">\n",
       "  <thead>\n",
       "    <tr style=\"text-align: right;\">\n",
       "      <th></th>\n",
       "      <th>GROUP</th>\n",
       "      <th>CODE</th>\n",
       "      <th>NAME</th>\n",
       "      <th>YEAR</th>\n",
       "      <th>DISEASE</th>\n",
       "      <th>DENOMINATOR</th>\n",
       "      <th>INCIDENCE_RATE</th>\n",
       "    </tr>\n",
       "  </thead>\n",
       "  <tbody>\n",
       "    <tr>\n",
       "      <th>0</th>\n",
       "      <td>WHO Regions</td>\n",
       "      <td>afr</td>\n",
       "      <td>African Region</td>\n",
       "      <td>1980</td>\n",
       "      <td>DIPHTHERIA</td>\n",
       "      <td>per 1,000,000 total population</td>\n",
       "      <td>25.0</td>\n",
       "    </tr>\n",
       "    <tr>\n",
       "      <th>1</th>\n",
       "      <td>WHO Regions</td>\n",
       "      <td>afr</td>\n",
       "      <td>African Region</td>\n",
       "      <td>1980</td>\n",
       "      <td>YFEVER</td>\n",
       "      <td>per 1,000,000 total population</td>\n",
       "      <td>0.3</td>\n",
       "    </tr>\n",
       "    <tr>\n",
       "      <th>2</th>\n",
       "      <td>WHO Regions</td>\n",
       "      <td>afr</td>\n",
       "      <td>African Region</td>\n",
       "      <td>1980</td>\n",
       "      <td>TTETANUS</td>\n",
       "      <td>per 1,000,000 total population</td>\n",
       "      <td>51.0</td>\n",
       "    </tr>\n",
       "    <tr>\n",
       "      <th>3</th>\n",
       "      <td>WHO Regions</td>\n",
       "      <td>afr</td>\n",
       "      <td>African Region</td>\n",
       "      <td>1980</td>\n",
       "      <td>PERTUSSIS</td>\n",
       "      <td>per 1,000,000 total population</td>\n",
       "      <td>1180.0</td>\n",
       "    </tr>\n",
       "    <tr>\n",
       "      <th>4</th>\n",
       "      <td>WHO Regions</td>\n",
       "      <td>afr</td>\n",
       "      <td>African Region</td>\n",
       "      <td>1980</td>\n",
       "      <td>NTETANUS</td>\n",
       "      <td>per 1000 live births</td>\n",
       "      <td>0.6</td>\n",
       "    </tr>\n",
       "    <tr>\n",
       "      <th>...</th>\n",
       "      <td>...</td>\n",
       "      <td>...</td>\n",
       "      <td>...</td>\n",
       "      <td>...</td>\n",
       "      <td>...</td>\n",
       "      <td>...</td>\n",
       "      <td>...</td>\n",
       "    </tr>\n",
       "    <tr>\n",
       "      <th>2204</th>\n",
       "      <td>WHO Regions</td>\n",
       "      <td>wpr</td>\n",
       "      <td>Western Pacific Region</td>\n",
       "      <td>2020</td>\n",
       "      <td>NTETANUS</td>\n",
       "      <td>per 1000 live births</td>\n",
       "      <td>0.0</td>\n",
       "    </tr>\n",
       "    <tr>\n",
       "      <th>2205</th>\n",
       "      <td>WHO Regions</td>\n",
       "      <td>wpr</td>\n",
       "      <td>Western Pacific Region</td>\n",
       "      <td>2020</td>\n",
       "      <td>POLIO</td>\n",
       "      <td>per 1,000,000 &lt;15 population</td>\n",
       "      <td>0.0</td>\n",
       "    </tr>\n",
       "    <tr>\n",
       "      <th>2206</th>\n",
       "      <td>WHO Regions</td>\n",
       "      <td>wpr</td>\n",
       "      <td>Western Pacific Region</td>\n",
       "      <td>2020</td>\n",
       "      <td>JAPENC</td>\n",
       "      <td>per 1,000,000 total population</td>\n",
       "      <td>0.3</td>\n",
       "    </tr>\n",
       "    <tr>\n",
       "      <th>2207</th>\n",
       "      <td>WHO Regions</td>\n",
       "      <td>wpr</td>\n",
       "      <td>Western Pacific Region</td>\n",
       "      <td>2020</td>\n",
       "      <td>CRS</td>\n",
       "      <td>per 10,000 live births</td>\n",
       "      <td>0.0</td>\n",
       "    </tr>\n",
       "    <tr>\n",
       "      <th>2208</th>\n",
       "      <td>WHO Regions</td>\n",
       "      <td>wpr</td>\n",
       "      <td>Western Pacific Region</td>\n",
       "      <td>2020</td>\n",
       "      <td>TTETANUS</td>\n",
       "      <td>per 1,000,000 total population</td>\n",
       "      <td>0.6</td>\n",
       "    </tr>\n",
       "  </tbody>\n",
       "</table>\n",
       "<p>2209 rows × 7 columns</p>\n",
       "</div>"
      ],
      "text/plain": [
       "            GROUP CODE                    NAME  YEAR     DISEASE  \\\n",
       "0     WHO Regions  afr          African Region  1980  DIPHTHERIA   \n",
       "1     WHO Regions  afr          African Region  1980      YFEVER   \n",
       "2     WHO Regions  afr          African Region  1980    TTETANUS   \n",
       "3     WHO Regions  afr          African Region  1980   PERTUSSIS   \n",
       "4     WHO Regions  afr          African Region  1980    NTETANUS   \n",
       "...           ...  ...                     ...   ...         ...   \n",
       "2204  WHO Regions  wpr  Western Pacific Region  2020    NTETANUS   \n",
       "2205  WHO Regions  wpr  Western Pacific Region  2020       POLIO   \n",
       "2206  WHO Regions  wpr  Western Pacific Region  2020      JAPENC   \n",
       "2207  WHO Regions  wpr  Western Pacific Region  2020         CRS   \n",
       "2208  WHO Regions  wpr  Western Pacific Region  2020    TTETANUS   \n",
       "\n",
       "                         DENOMINATOR  INCIDENCE_RATE  \n",
       "0     per 1,000,000 total population            25.0  \n",
       "1     per 1,000,000 total population             0.3  \n",
       "2     per 1,000,000 total population            51.0  \n",
       "3     per 1,000,000 total population          1180.0  \n",
       "4               per 1000 live births             0.6  \n",
       "...                              ...             ...  \n",
       "2204            per 1000 live births             0.0  \n",
       "2205    per 1,000,000 <15 population             0.0  \n",
       "2206  per 1,000,000 total population             0.3  \n",
       "2207          per 10,000 live births             0.0  \n",
       "2208  per 1,000,000 total population             0.6  \n",
       "\n",
       "[2209 rows x 7 columns]"
      ]
     },
     "metadata": {},
     "output_type": "display_data"
    }
   ],
   "source": [
    "\n",
    "# Posa aquí el teu codi i descomenta la línia de baix\n",
    "#df_incidence_regions: pd.DataFrame = incidence_raw.query(\"GROUP == 'Countries'\")\n",
    "df_incidence_regions = pd.read_csv(\"incidence_rate_2020_regions.csv\", sep=',', decimal=\",\")\n",
    "\n",
    "display(df_incidence_regions)\n",
    "\n",
    "#df_incidence_regions.to_csv('incidence_rate_2020_regions.csv', index=False)\n",
    "\n",
    "# Posa aquí el teu codi i descomenta la línia de baix\n",
    "#df_incidence_countries: pd.DataFrame = incidence_raw.query(\"GROUP == 'WHO Regions'\")\n",
    "df_incidence_countries = pd.read_csv(\"incidence_rate_2020_countries.csv\", sep=';', decimal=\",\")\n",
    "\n",
    "display(df_incidence_countries)\n",
    "\n",
    "#df_incidence_countries.to_csv('incidence_rate_2020_countries.csv', index=False, sep=';', decimal=\",\")"
   ]
  },
  {
   "cell_type": "markdown",
   "id": "a05cb88e-c05b-46f2-8f40-4cec26c66f02",
   "metadata": {},
   "source": [
    "### Gràfics d'Outliers.\n",
    "\n",
    "Des del fitxer <em>incidence_rate_2020_countries.csv<em> o des del dataframe que has aconseguit; \n",
    "crea un gràfic plotbox de les enfermetats que es mesuren amb el denominador: 'per 1,000,000 total population'.\n",
    "\n",
    "<em>Pista: Recomanem fer-lo amb seaborn, que permet seleccionar quina fila i columna volem posar al gràfic<em>"
   ]
  },
  {
   "cell_type": "code",
   "execution_count": 80,
   "id": "74461132-e4e1-4978-805d-0fde75b502fd",
   "metadata": {},
   "outputs": [
    {
     "data": {
      "text/plain": [
       "<AxesSubplot:xlabel='INCIDENCE_RATE', ylabel='DISEASE'>"
      ]
     },
     "execution_count": 80,
     "metadata": {},
     "output_type": "execute_result"
    },
    {
     "data": {
      "image/png": "[encoded data removed]",
      "text/plain": [
       "<Figure size 432x288 with 1 Axes>"
      ]
     },
     "metadata": {
      "needs_background": "light"
     },
     "output_type": "display_data"
    }
   ],
   "source": [
    "#Posa aquí la teva solució\n",
    "df_per1M_pop = df_incidence_countries.query(\"DENOMINATOR == 'per 1,000,000 total population'\") \n",
    "sns.boxplot(data=df_per1M_pop, x=\"INCIDENCE_RATE\", y='DISEASE')"
   ]
  },
  {
   "cell_type": "markdown",
   "id": "6dbc86c8",
   "metadata": {},
   "source": [
    "### Ara, fes un plotbox de les enfermetats a Espanya."
   ]
  },
  {
   "cell_type": "code",
   "execution_count": 81,
   "id": "49b79018",
   "metadata": {},
   "outputs": [
    {
     "ename": "ValueError",
     "evalue": "min() arg is an empty sequence",
     "output_type": "error",
     "traceback": [
      "\u001b[0;31m---------------------------------------------------------------------------\u001b[0m",
      "\u001b[0;31mValueError\u001b[0m                                Traceback (most recent call last)",
      "\u001b[1;32m/home/vic/dawbio2/m14-bioinformatica/simu-pe2-estadistica/m14-uf1-pe2-sim-NAME.ipynb Cell 19\u001b[0m in \u001b[0;36m<cell line: 4>\u001b[0;34m()\u001b[0m\n\u001b[1;32m      <a href='vscode-notebook-cell:/home/vic/dawbio2/m14-bioinformatica/simu-pe2-estadistica/m14-uf1-pe2-sim-NAME.ipynb#X24sZmlsZQ%3D%3D?line=1'>2</a>\u001b[0m df_per1M_pop \u001b[39m=\u001b[39m df_incidence_countries\u001b[39m.\u001b[39mquery(\u001b[39m\"\u001b[39m\u001b[39mDENOMINATOR == \u001b[39m\u001b[39m'\u001b[39m\u001b[39mper 1,000,000 total population\u001b[39m\u001b[39m'\u001b[39m\u001b[39m\"\u001b[39m) \n\u001b[1;32m      <a href='vscode-notebook-cell:/home/vic/dawbio2/m14-bioinformatica/simu-pe2-estadistica/m14-uf1-pe2-sim-NAME.ipynb#X24sZmlsZQ%3D%3D?line=2'>3</a>\u001b[0m esp_incidence_rate \u001b[39m=\u001b[39m df_per1M_pop\u001b[39m.\u001b[39mquery(\u001b[39m\"\u001b[39m\u001b[39mCODE == \u001b[39m\u001b[39m'\u001b[39m\u001b[39mESP\u001b[39m\u001b[39m'\u001b[39m\u001b[39m\"\u001b[39m)\n\u001b[0;32m----> <a href='vscode-notebook-cell:/home/vic/dawbio2/m14-bioinformatica/simu-pe2-estadistica/m14-uf1-pe2-sim-NAME.ipynb#X24sZmlsZQ%3D%3D?line=3'>4</a>\u001b[0m sns\u001b[39m.\u001b[39;49mboxplot(data\u001b[39m=\u001b[39;49mesp_incidence_rate, x\u001b[39m=\u001b[39;49m\u001b[39m'\u001b[39;49m\u001b[39mINCIDENCE_RATE\u001b[39;49m\u001b[39m'\u001b[39;49m, y\u001b[39m=\u001b[39;49m\u001b[39m'\u001b[39;49m\u001b[39mDISEASE\u001b[39;49m\u001b[39m'\u001b[39;49m)\n",
      "File \u001b[0;32m~/anaconda3/envs/bio/lib/python3.10/site-packages/seaborn/_decorators.py:46\u001b[0m, in \u001b[0;36m_deprecate_positional_args.<locals>.inner_f\u001b[0;34m(*args, **kwargs)\u001b[0m\n\u001b[1;32m     36\u001b[0m     warnings\u001b[39m.\u001b[39mwarn(\n\u001b[1;32m     37\u001b[0m         \u001b[39m\"\u001b[39m\u001b[39mPass the following variable\u001b[39m\u001b[39m{}\u001b[39;00m\u001b[39m as \u001b[39m\u001b[39m{}\u001b[39;00m\u001b[39mkeyword arg\u001b[39m\u001b[39m{}\u001b[39;00m\u001b[39m: \u001b[39m\u001b[39m{}\u001b[39;00m\u001b[39m. \u001b[39m\u001b[39m\"\u001b[39m\n\u001b[1;32m     38\u001b[0m         \u001b[39m\"\u001b[39m\u001b[39mFrom version 0.12, the only valid positional argument \u001b[39m\u001b[39m\"\u001b[39m\n\u001b[0;32m   (...)\u001b[0m\n\u001b[1;32m     43\u001b[0m         \u001b[39mFutureWarning\u001b[39;00m\n\u001b[1;32m     44\u001b[0m     )\n\u001b[1;32m     45\u001b[0m kwargs\u001b[39m.\u001b[39mupdate({k: arg \u001b[39mfor\u001b[39;00m k, arg \u001b[39min\u001b[39;00m \u001b[39mzip\u001b[39m(sig\u001b[39m.\u001b[39mparameters, args)})\n\u001b[0;32m---> 46\u001b[0m \u001b[39mreturn\u001b[39;00m f(\u001b[39m*\u001b[39;49m\u001b[39m*\u001b[39;49mkwargs)\n",
      "File \u001b[0;32m~/anaconda3/envs/bio/lib/python3.10/site-packages/seaborn/categorical.py:2243\u001b[0m, in \u001b[0;36mboxplot\u001b[0;34m(x, y, hue, data, order, hue_order, orient, color, palette, saturation, width, dodge, fliersize, linewidth, whis, ax, **kwargs)\u001b[0m\n\u001b[1;32m   2231\u001b[0m \u001b[39m@_deprecate_positional_args\u001b[39m\n\u001b[1;32m   2232\u001b[0m \u001b[39mdef\u001b[39;00m \u001b[39mboxplot\u001b[39m(\n\u001b[1;32m   2233\u001b[0m     \u001b[39m*\u001b[39m,\n\u001b[0;32m   (...)\u001b[0m\n\u001b[1;32m   2240\u001b[0m     \u001b[39m*\u001b[39m\u001b[39m*\u001b[39mkwargs\n\u001b[1;32m   2241\u001b[0m ):\n\u001b[0;32m-> 2243\u001b[0m     plotter \u001b[39m=\u001b[39m _BoxPlotter(x, y, hue, data, order, hue_order,\n\u001b[1;32m   2244\u001b[0m                           orient, color, palette, saturation,\n\u001b[1;32m   2245\u001b[0m                           width, dodge, fliersize, linewidth)\n\u001b[1;32m   2247\u001b[0m     \u001b[39mif\u001b[39;00m ax \u001b[39mis\u001b[39;00m \u001b[39mNone\u001b[39;00m:\n\u001b[1;32m   2248\u001b[0m         ax \u001b[39m=\u001b[39m plt\u001b[39m.\u001b[39mgca()\n",
      "File \u001b[0;32m~/anaconda3/envs/bio/lib/python3.10/site-packages/seaborn/categorical.py:407\u001b[0m, in \u001b[0;36m_BoxPlotter.__init__\u001b[0;34m(self, x, y, hue, data, order, hue_order, orient, color, palette, saturation, width, dodge, fliersize, linewidth)\u001b[0m\n\u001b[1;32m    402\u001b[0m \u001b[39mdef\u001b[39;00m \u001b[39m__init__\u001b[39m(\u001b[39mself\u001b[39m, x, y, hue, data, order, hue_order,\n\u001b[1;32m    403\u001b[0m              orient, color, palette, saturation,\n\u001b[1;32m    404\u001b[0m              width, dodge, fliersize, linewidth):\n\u001b[1;32m    406\u001b[0m     \u001b[39mself\u001b[39m\u001b[39m.\u001b[39mestablish_variables(x, y, hue, data, orient, order, hue_order)\n\u001b[0;32m--> 407\u001b[0m     \u001b[39mself\u001b[39;49m\u001b[39m.\u001b[39;49mestablish_colors(color, palette, saturation)\n\u001b[1;32m    409\u001b[0m     \u001b[39mself\u001b[39m\u001b[39m.\u001b[39mdodge \u001b[39m=\u001b[39m dodge\n\u001b[1;32m    410\u001b[0m     \u001b[39mself\u001b[39m\u001b[39m.\u001b[39mwidth \u001b[39m=\u001b[39m width\n",
      "File \u001b[0;32m~/anaconda3/envs/bio/lib/python3.10/site-packages/seaborn/categorical.py:319\u001b[0m, in \u001b[0;36m_CategoricalPlotter.establish_colors\u001b[0;34m(self, color, palette, saturation)\u001b[0m\n\u001b[1;32m    317\u001b[0m \u001b[39m# Determine the gray color to use for the lines framing the plot\u001b[39;00m\n\u001b[1;32m    318\u001b[0m light_vals \u001b[39m=\u001b[39m [colorsys\u001b[39m.\u001b[39mrgb_to_hls(\u001b[39m*\u001b[39mc)[\u001b[39m1\u001b[39m] \u001b[39mfor\u001b[39;00m c \u001b[39min\u001b[39;00m rgb_colors]\n\u001b[0;32m--> 319\u001b[0m lum \u001b[39m=\u001b[39m \u001b[39mmin\u001b[39;49m(light_vals) \u001b[39m*\u001b[39m \u001b[39m.6\u001b[39m\n\u001b[1;32m    320\u001b[0m gray \u001b[39m=\u001b[39m mpl\u001b[39m.\u001b[39mcolors\u001b[39m.\u001b[39mrgb2hex((lum, lum, lum))\n\u001b[1;32m    322\u001b[0m \u001b[39m# Assign object attributes\u001b[39;00m\n",
      "\u001b[0;31mValueError\u001b[0m: min() arg is an empty sequence"
     ]
    }
   ],
   "source": [
    "# # Posa aquí la teva solució\n",
    "df_per1M_pop = df_incidence_countries.query(\"DENOMINATOR == 'per 1,000,000 total population'\") \n",
    "esp_incidence_rate = df_per1M_pop.query(\"CODE == 'ESP'\")\n",
    "sns.boxplot(data=esp_incidence_rate, x='INCIDENCE_RATE', y='DISEASE')\n",
    "\n"
   ]
  },
  {
   "cell_type": "markdown",
   "id": "ceb1f275-35b8-4fed-aae0-7d3d7dbfa043",
   "metadata": {},
   "source": [
    "### Part 2 - Fes una gràfica de línies (o similar) on es vegi la incidència de 3 enfermetats a Espanya des del 1980 fins el 2020, ambdós inclosos. (2,5 punts)\n",
    "\n",
    "Per exemple: MEASLES, MUMPS, PERTUSSIS. \n",
    "<em>Serien: paperes, xarampió, tos ferina.</em>"
   ]
  },
  {
   "cell_type": "code",
   "execution_count": null,
   "id": "084f5b7f-a60f-47e4-9cdc-0cbf9a0aee49",
   "metadata": {},
   "outputs": [
    {
     "data": {
      "text/plain": [
       "<AxesSubplot:>"
      ]
     },
     "execution_count": 71,
     "metadata": {},
     "output_type": "execute_result"
    },
    {
     "data": {
      "image/png": "[encoded data removed]",
      "text/plain": [
       "<Figure size 432x288 with 1 Axes>"
      ]
     },
     "metadata": {
      "needs_background": "light"
     },
     "output_type": "display_data"
    }
   ],
   "source": [
    "# Posa aquí la teva solució\n",
    "esp_incidence_rate_year = esp_incidence_rate.query(\"YEAR >= 1980 & YEAR <= 2020\")\n",
    "sns.lineplot(data=esp_incidence_rate_year, x='YEAR', y='DISEASE')"
   ]
  },
  {
   "cell_type": "markdown",
   "id": "5cff9289",
   "metadata": {},
   "source": [
    "## Part 3. Crea un gràfic que serveixin per comparar les dades de sarampió (measles) a Espanya i almenys a 2 països més. (2 punts)"
   ]
  },
  {
   "cell_type": "code",
   "execution_count": null,
   "id": "a478bd48",
   "metadata": {},
   "outputs": [
    {
     "data": {
      "text/plain": [
       "<AxesSubplot:>"
      ]
     },
     "execution_count": 47,
     "metadata": {},
     "output_type": "execute_result"
    },
    {
     "data": {
      "image/png": "[encoded data removed]",
      "text/plain": [
       "<Figure size 432x288 with 1 Axes>"
      ]
     },
     "metadata": {
      "needs_background": "light"
     },
     "output_type": "display_data"
    }
   ],
   "source": [
    "df_incidence_countries_esp = df_incidence_countries.query(\"CODE == 'ESP'\")\n",
    "df_incidence_countries_esp_sar = df_incidence_countries_esp.query(\"DISEASE == 'MEASLES'\")\n",
    "\n",
    "df_incidence_countries_ago = df_incidence_countries.query(\"CODE == 'AGO'\")\n",
    "df_incidence_countries_ago_sar = df_incidence_countries_ago.query(\"DISEASE == 'MEASLES'\")\n",
    "\n",
    "df_incidence_countries_bel = df_incidence_countries.query(\"CODE == 'BEL'\")\n",
    "df_incidence_countries_bel_sar = df_incidence_countries_bel.query(\"DISEASE == 'MEASLES'\")\n",
    "\n",
    "sns.lineplot(data = df_incidence_countries_esp_sar, x='YEAR', y='INCIDENCE_RATE')\n",
    "sns.lineplot(data = df_incidence_countries_ago_sar, x='YEAR', y='INCIDENCE_RATE')\n",
    "sns.lineplot(data = df_incidence_countries_bel_sar, x='YEAR', y='INCIDENCE_RATE')"
   ]
  },
  {
   "cell_type": "markdown",
   "id": "a040e220-f3cd-4034-87e0-083018728bd4",
   "metadata": {},
   "source": [
    "## Part 4. Scatterplots i/o recta de regressió entre parelles d'enfermetats. (2 punts)\n",
    "\n",
    "Ens demanen comparar aquestes parelles d'enfermetats; per saber si existeix correlació entre elles.\n",
    "\n",
    "Com a mínim ens demanen estudiar aquestes:\n",
    "\n",
    "1. PERTUSSIS i MEASELS. \n",
    "2. MUMPS i PERTUSSIS."
   ]
  },
  {
   "cell_type": "code",
   "execution_count": null,
   "id": "e0c07166",
   "metadata": {},
   "outputs": [],
   "source": [
    "# Posa aquí la teva solució"
   ]
  },
  {
   "cell_type": "markdown",
   "id": "2ca624d7-4342-46f6-847a-bdfcd898ed29",
   "metadata": {},
   "source": [
    "### Creus que hi ha una bona correlació entre aquests parells d'enfermetats ? "
   ]
  },
  {
   "cell_type": "markdown",
   "id": "001574bd-cb3f-47f0-a095-5a3b14818cb0",
   "metadata": {},
   "source": [
    "RESPOSTA.\n"
   ]
  }
 ],
 "metadata": {
  "kernelspec": {
   "display_name": "Python 3.10.4 ('bio')",
   "language": "python",
   "name": "python3"
  },
  "language_info": {
   "codemirror_mode": {
    "name": "ipython",
    "version": 3
   },
   "file_extension": ".py",
   "mimetype": "text/x-python",
   "name": "python",
   "nbconvert_exporter": "python",
   "pygments_lexer": "ipython3",
   "version": "3.10.4"
  },
  "toc-autonumbering": true,
  "vscode": {
   "interpreter": {
    "hash": "75644d1bbe802a7a08b91152a9fb1d5024e3b0b7f6a281757a9820df136ccfae"
   }
  }
 },
 "nbformat": 4,
 "nbformat_minor": 5
}
