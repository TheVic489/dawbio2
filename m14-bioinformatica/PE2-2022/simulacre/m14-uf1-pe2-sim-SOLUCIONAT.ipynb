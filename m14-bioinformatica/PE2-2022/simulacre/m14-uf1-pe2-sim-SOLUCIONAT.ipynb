{
 "cells": [
  {
   "cell_type": "markdown",
   "id": "012b2c9c-c595-4e1e-8b67-9abccd1b5f40",
   "metadata": {},
   "source": [
    "# Simulacre Prova escrita 2 - Estadística.\n",
    "\n",
    "## Autor: Miquel Àngel Amorós Alberich\n",
    "\n",
    "#### Consulta al professor quan hagis aconseguit cada gràfic que es demana.\n",
    "\n",
    "## Part 1. Preguntes bàsiques, gestió de valors NA, i outliers. (3,5 punts)\n",
    "\n",
    "### Preguntes bàsiques. 1.5 punts.\n",
    "### Gràfic d'outliers. 2 punts.\n",
    "\n",
    "Us donem el codi de la importació i el context de les dades.\n",
    "\n",
    "### Importació del Dataset"
   ]
  },
  {
   "cell_type": "code",
   "execution_count": 20,
   "id": "7cd312b8-1973-4a24-875c-475c950f1f83",
   "metadata": {},
   "outputs": [],
   "source": [
    "import numpy as np\n",
    "import pandas as pd\n",
    "import seaborn as sns\n",
    "import matplotlib.pyplot as plt\n",
    "import copy"
   ]
  },
  {
   "cell_type": "code",
   "execution_count": 21,
   "id": "aed1e284-f334-48af-a0a3-500de2f64e8d",
   "metadata": {},
   "outputs": [
    {
     "name": "stdout",
     "output_type": "stream",
     "text": [
      "GROUP                   object\n",
      "CODE                    object\n",
      "NAME                    object\n",
      "YEAR                     int64\n",
      "DISEASE                 object\n",
      "DISEASE_DESCRIPTION     object\n",
      "DENOMINATOR             object\n",
      "INCIDENCE_RATE         float64\n",
      "dtype: object\n",
      "          GROUP CODE            NAME  YEAR     DISEASE DISEASE_DESCRIPTION  \\\n",
      "0     Countries  AFG     Afghanistan  1980      YFEVER        Yellow fever   \n",
      "1     Countries  AFG     Afghanistan  1980    NTETANUS    Neonatal tetanus   \n",
      "2     Countries  AFG     Afghanistan  1980    TTETANUS       Total tetanus   \n",
      "3     Countries  AFG     Afghanistan  1980     MEASLES             Measles   \n",
      "4     Countries  AFG     Afghanistan  1980       POLIO       Poliomyelitis   \n",
      "5     Countries  AFG     Afghanistan  1980  DIPHTHERIA          Diphtheria   \n",
      "6     Countries  AFG     Afghanistan  1980   PERTUSSIS           Pertussis   \n",
      "7   WHO Regions  afr  African Region  1980  DIPHTHERIA          Diphtheria   \n",
      "8   WHO Regions  afr  African Region  1980      YFEVER        Yellow fever   \n",
      "9   WHO Regions  afr  African Region  1980    TTETANUS       Total tetanus   \n",
      "10  WHO Regions  afr  African Region  1980   PERTUSSIS           Pertussis   \n",
      "11  WHO Regions  afr  African Region  1980    NTETANUS    Neonatal tetanus   \n",
      "12  WHO Regions  afr  African Region  1980     MEASLES             Measles   \n",
      "13  WHO Regions  afr  African Region  1980       POLIO       Poliomyelitis   \n",
      "14    Countries  AGO          Angola  1980   PERTUSSIS           Pertussis   \n",
      "15    Countries  AGO          Angola  1980    NTETANUS    Neonatal tetanus   \n",
      "16    Countries  AGO          Angola  1980     MEASLES             Measles   \n",
      "17    Countries  AGO          Angola  1980      YFEVER        Yellow fever   \n",
      "18    Countries  AGO          Angola  1980  DIPHTHERIA          Diphtheria   \n",
      "19    Countries  AGO          Angola  1980    TTETANUS       Total tetanus   \n",
      "\n",
      "                       DENOMINATOR  INCIDENCE_RATE  \n",
      "0   per 1,000,000 total population             0.0  \n",
      "1            per 1,000 live births             0.0  \n",
      "2   per 1,000,000 total population           121.1  \n",
      "3   per 1,000,000 total population          2429.9  \n",
      "4     per 1,000,000 <15 population           142.7  \n",
      "5   per 1,000,000 total population           145.2  \n",
      "6   per 1,000,000 total population          1179.1  \n",
      "7   per 1,000,000 total population            25.0  \n",
      "8   per 1,000,000 total population             0.3  \n",
      "9   per 1,000,000 total population            51.0  \n",
      "10  per 1,000,000 total population          1180.0  \n",
      "11            per 1000 live births             0.6  \n",
      "12  per 1,000,000 total population          3443.8  \n",
      "13    per 1,000,000 <15 population            30.7  \n",
      "14  per 1,000,000 total population          6488.9  \n",
      "15           per 1,000 live births             1.3  \n",
      "16  per 1,000,000 total population          3555.3  \n",
      "17  per 1,000,000 total population             NaN  \n",
      "18  per 1,000,000 total population             0.0  \n",
      "19  per 1,000,000 total population           142.1  \n"
     ]
    }
   ],
   "source": [
    "incidence_raw = pd.read_csv(\"incidence-rate-2020.csv\", sep=';', decimal=\",\")\n",
    "\n",
    "incidence_new = copy.deepcopy(incidence_raw)\n",
    "\n",
    "print(incidence_raw.dtypes)\n",
    "\n",
    "print(incidence_raw.head(20))"
   ]
  },
  {
   "cell_type": "markdown",
   "id": "e31cb267-68e4-4fdb-85f2-6b9d7d073cc4",
   "metadata": {},
   "source": [
    "### Explicació del context. Què son aquestes dades? Posar referències.\n",
    "\n",
    "Representen els ratios d'incidencia de casos de diferents enfermedades contagioses en molts països. \n",
    "Aquest ratio està representat pel camp **INCIDENCE_RATE.**\n",
    "\n",
    "S'utilitzen diverses maneres de calcular aquestes ratios, ho indica el camp **DENOMINATOR.**\n",
    "No és el mateix mesurar 'per 1,000,000 total population' que ';per 1,000,000 <15 population'\n",
    "\n",
    "**GROUP** Pot ser un país, una agrupació de països o un estat.\n",
    "\n",
    "**CODE** és la abreviatura del nom del país/estat/grup **NAME** .\n",
    "\n",
    "**DISEASE** és el nom de la enfermetat.\n",
    "\n",
    "**YEAR**: Des de 1980 a 2021\n",
    "\n",
    "#### Referència:\n",
    "\n",
    "Dataset extret del portal Inmunization Data, de la WHO (la OMS)\n",
    "\n",
    "[https://immunizationdata.who.int/listing.html?topic=&location=]"
   ]
  },
  {
   "cell_type": "markdown",
   "id": "c647ef68-1bf1-4d17-80bb-339e4c993229",
   "metadata": {},
   "source": [
    "#### Quantes files té el dataset ? "
   ]
  },
  {
   "cell_type": "code",
   "execution_count": 22,
   "id": "aed1e284-f334-48af-a0a3-500de2f64e8d",
   "metadata": {},
   "outputs": [
    {
     "data": {
      "text/plain": [
       "72138"
      ]
     },
     "execution_count": 22,
     "metadata": {},
     "output_type": "execute_result"
    }
   ],
   "source": [
    "len (incidence_new)"
   ]
  },
  {
   "cell_type": "markdown",
   "id": "865ac829",
   "metadata": {},
   "source": [
    "### Llista els valors possibles que poden tenir els camps DENOMINATOR i el DISEASE."
   ]
  },
  {
   "cell_type": "code",
   "execution_count": 23,
   "id": "758045f3-1e52-4e56-a670-48d5048e0c34",
   "metadata": {},
   "outputs": [
    {
     "data": {
      "text/plain": [
       "array(['per 1,000,000 total population', 'per 1,000 live births',\n",
       "       'per 1,000,000 <15 population', 'per 1000 live births',\n",
       "       'per 10,000 live births'], dtype=object)"
      ]
     },
     "execution_count": 23,
     "metadata": {},
     "output_type": "execute_result"
    }
   ],
   "source": [
    "incidence_new.loc[:,\"DENOMINATOR\"].unique()"
   ]
  },
  {
   "cell_type": "code",
   "execution_count": 24,
   "id": "1ead96c9",
   "metadata": {},
   "outputs": [
    {
     "data": {
      "text/plain": [
       "POLIO         8137\n",
       "MEASLES       8070\n",
       "DIPHTHERIA    8064\n",
       "PERTUSSIS     8064\n",
       "NTETANUS      8059\n",
       "TTETANUS      8028\n",
       "YFEVER        8003\n",
       "RUBELLA       4371\n",
       "CRS           4324\n",
       "MUMPS         4301\n",
       "JAPENC        2717\n",
       "Name: DISEASE, dtype: int64"
      ]
     },
     "execution_count": 24,
     "metadata": {},
     "output_type": "execute_result"
    }
   ],
   "source": [
    "incidence_new.loc[:,\"DISEASE\"].value_counts()\n"
   ]
  },
  {
   "cell_type": "markdown",
   "id": "ea52cb18",
   "metadata": {},
   "source": [
    "### Optimització del dataframe.\n",
    "\n",
    "Elimina la fila \"DISEASE_DESCRIPTION\". No és necessari tenir aquesta fila dins d'aquesta taula.\n",
    "\n",
    "En SQL aquests valors estarien en una taula apart, accessible des d'una foreign key comuna entre les 2 taules, que seria DISEASE."
   ]
  },
  {
   "cell_type": "code",
   "execution_count": 25,
   "id": "bd3e9210",
   "metadata": {},
   "outputs": [
    {
     "data": {
      "text/html": [
       "<div>\n",
       "<style scoped>\n",
       "    .dataframe tbody tr th:only-of-type {\n",
       "        vertical-align: middle;\n",
       "    }\n",
       "\n",
       "    .dataframe tbody tr th {\n",
       "        vertical-align: top;\n",
       "    }\n",
       "\n",
       "    .dataframe thead th {\n",
       "        text-align: right;\n",
       "    }\n",
       "</style>\n",
       "<table border=\"1\" class=\"dataframe\">\n",
       "  <thead>\n",
       "    <tr style=\"text-align: right;\">\n",
       "      <th></th>\n",
       "      <th>GROUP</th>\n",
       "      <th>CODE</th>\n",
       "      <th>NAME</th>\n",
       "      <th>YEAR</th>\n",
       "      <th>DISEASE</th>\n",
       "      <th>DENOMINATOR</th>\n",
       "      <th>INCIDENCE_RATE</th>\n",
       "    </tr>\n",
       "  </thead>\n",
       "  <tbody>\n",
       "    <tr>\n",
       "      <th>0</th>\n",
       "      <td>Countries</td>\n",
       "      <td>AFG</td>\n",
       "      <td>Afghanistan</td>\n",
       "      <td>1980</td>\n",
       "      <td>YFEVER</td>\n",
       "      <td>per 1,000,000 total population</td>\n",
       "      <td>0.0</td>\n",
       "    </tr>\n",
       "    <tr>\n",
       "      <th>1</th>\n",
       "      <td>Countries</td>\n",
       "      <td>AFG</td>\n",
       "      <td>Afghanistan</td>\n",
       "      <td>1980</td>\n",
       "      <td>NTETANUS</td>\n",
       "      <td>per 1,000 live births</td>\n",
       "      <td>0.0</td>\n",
       "    </tr>\n",
       "    <tr>\n",
       "      <th>2</th>\n",
       "      <td>Countries</td>\n",
       "      <td>AFG</td>\n",
       "      <td>Afghanistan</td>\n",
       "      <td>1980</td>\n",
       "      <td>TTETANUS</td>\n",
       "      <td>per 1,000,000 total population</td>\n",
       "      <td>121.1</td>\n",
       "    </tr>\n",
       "    <tr>\n",
       "      <th>3</th>\n",
       "      <td>Countries</td>\n",
       "      <td>AFG</td>\n",
       "      <td>Afghanistan</td>\n",
       "      <td>1980</td>\n",
       "      <td>MEASLES</td>\n",
       "      <td>per 1,000,000 total population</td>\n",
       "      <td>2429.9</td>\n",
       "    </tr>\n",
       "    <tr>\n",
       "      <th>4</th>\n",
       "      <td>Countries</td>\n",
       "      <td>AFG</td>\n",
       "      <td>Afghanistan</td>\n",
       "      <td>1980</td>\n",
       "      <td>POLIO</td>\n",
       "      <td>per 1,000,000 &lt;15 population</td>\n",
       "      <td>142.7</td>\n",
       "    </tr>\n",
       "    <tr>\n",
       "      <th>...</th>\n",
       "      <td>...</td>\n",
       "      <td>...</td>\n",
       "      <td>...</td>\n",
       "      <td>...</td>\n",
       "      <td>...</td>\n",
       "      <td>...</td>\n",
       "      <td>...</td>\n",
       "    </tr>\n",
       "    <tr>\n",
       "      <th>72133</th>\n",
       "      <td>Countries</td>\n",
       "      <td>ZWE</td>\n",
       "      <td>Zimbabwe</td>\n",
       "      <td>2020</td>\n",
       "      <td>MEASLES</td>\n",
       "      <td>per 1,000,000 total population</td>\n",
       "      <td>0.2</td>\n",
       "    </tr>\n",
       "    <tr>\n",
       "      <th>72134</th>\n",
       "      <td>Countries</td>\n",
       "      <td>ZWE</td>\n",
       "      <td>Zimbabwe</td>\n",
       "      <td>2020</td>\n",
       "      <td>RUBELLA</td>\n",
       "      <td>per 1,000,000 total population</td>\n",
       "      <td>0.9</td>\n",
       "    </tr>\n",
       "    <tr>\n",
       "      <th>72135</th>\n",
       "      <td>Countries</td>\n",
       "      <td>ZWE</td>\n",
       "      <td>Zimbabwe</td>\n",
       "      <td>2020</td>\n",
       "      <td>POLIO</td>\n",
       "      <td>per 1,000,000 &lt;15 population</td>\n",
       "      <td>0.0</td>\n",
       "    </tr>\n",
       "    <tr>\n",
       "      <th>72136</th>\n",
       "      <td>Countries</td>\n",
       "      <td>ZWE</td>\n",
       "      <td>Zimbabwe</td>\n",
       "      <td>2020</td>\n",
       "      <td>DIPHTHERIA</td>\n",
       "      <td>per 1,000,000 total population</td>\n",
       "      <td>0.0</td>\n",
       "    </tr>\n",
       "    <tr>\n",
       "      <th>72137</th>\n",
       "      <td>Countries</td>\n",
       "      <td>ZWE</td>\n",
       "      <td>Zimbabwe</td>\n",
       "      <td>2020</td>\n",
       "      <td>NTETANUS</td>\n",
       "      <td>per 1,000 live births</td>\n",
       "      <td>0.0</td>\n",
       "    </tr>\n",
       "  </tbody>\n",
       "</table>\n",
       "<p>72138 rows × 7 columns</p>\n",
       "</div>"
      ],
      "text/plain": [
       "           GROUP CODE         NAME  YEAR     DISEASE  \\\n",
       "0      Countries  AFG  Afghanistan  1980      YFEVER   \n",
       "1      Countries  AFG  Afghanistan  1980    NTETANUS   \n",
       "2      Countries  AFG  Afghanistan  1980    TTETANUS   \n",
       "3      Countries  AFG  Afghanistan  1980     MEASLES   \n",
       "4      Countries  AFG  Afghanistan  1980       POLIO   \n",
       "...          ...  ...          ...   ...         ...   \n",
       "72133  Countries  ZWE     Zimbabwe  2020     MEASLES   \n",
       "72134  Countries  ZWE     Zimbabwe  2020     RUBELLA   \n",
       "72135  Countries  ZWE     Zimbabwe  2020       POLIO   \n",
       "72136  Countries  ZWE     Zimbabwe  2020  DIPHTHERIA   \n",
       "72137  Countries  ZWE     Zimbabwe  2020    NTETANUS   \n",
       "\n",
       "                          DENOMINATOR  INCIDENCE_RATE  \n",
       "0      per 1,000,000 total population             0.0  \n",
       "1               per 1,000 live births             0.0  \n",
       "2      per 1,000,000 total population           121.1  \n",
       "3      per 1,000,000 total population          2429.9  \n",
       "4        per 1,000,000 <15 population           142.7  \n",
       "...                               ...             ...  \n",
       "72133  per 1,000,000 total population             0.2  \n",
       "72134  per 1,000,000 total population             0.9  \n",
       "72135    per 1,000,000 <15 population             0.0  \n",
       "72136  per 1,000,000 total population             0.0  \n",
       "72137           per 1,000 live births             0.0  \n",
       "\n",
       "[72138 rows x 7 columns]"
      ]
     },
     "execution_count": 25,
     "metadata": {},
     "output_type": "execute_result"
    }
   ],
   "source": [
    "incidence_new.drop(columns=['DISEASE_DESCRIPTION'])"
   ]
  },
  {
   "cell_type": "markdown",
   "id": "9398166a",
   "metadata": {},
   "source": [
    "### Hi ha NAs? En quines columnes ? Quina columna en té més ? "
   ]
  },
  {
   "cell_type": "code",
   "execution_count": 26,
   "id": "efadab0f-ca3c-4903-a854-47585943ab0e",
   "metadata": {},
   "outputs": [
    {
     "data": {
      "text/plain": [
       "GROUP                      0\n",
       "CODE                       0\n",
       "NAME                       0\n",
       "YEAR                       0\n",
       "DISEASE                    0\n",
       "DISEASE_DESCRIPTION        0\n",
       "DENOMINATOR                0\n",
       "INCIDENCE_RATE         16336\n",
       "dtype: int64"
      ]
     },
     "execution_count": 26,
     "metadata": {},
     "output_type": "execute_result"
    }
   ],
   "source": [
    "#incidence = incidence.dropna()\n",
    "incidence_new.isna().sum()\n",
    "\n",
    "# La columna INCIDENCE_RATE en té molts.\n",
    "\n",
    "# para no tener NAs y teniendo en cuenta que solo en el ratio de incidencias tenemos podemos \n",
    "# convertir todos los NAs a 0 para poder hacer operaciones aritmeticas como sumar"
   ]
  },
  {
   "cell_type": "code",
   "execution_count": 27,
   "id": "1917c480",
   "metadata": {},
   "outputs": [
    {
     "name": "stdout",
     "output_type": "stream",
     "text": [
      "GROUP                  0.000000\n",
      "CODE                   0.000000\n",
      "NAME                   0.000000\n",
      "YEAR                   0.000000\n",
      "DISEASE                0.000000\n",
      "DISEASE_DESCRIPTION    0.000000\n",
      "DENOMINATOR            0.000000\n",
      "INCIDENCE_RATE         0.226455\n",
      "dtype: float64\n"
     ]
    }
   ],
   "source": [
    "print(incidence_new.isna().sum() / len(incidence_new))"
   ]
  },
  {
   "cell_type": "markdown",
   "id": "d7d760b0-d1a9-4fd7-bafa-b2b8af7bfdc5",
   "metadata": {},
   "source": [
    "### Separar el dataframe en 2 parts: les files que tenen el GROUP = Countries i els que tenen GROUP = WHO_REGIONS.\n",
    "\n",
    "#### Guarda els 2 dataframes en 2 fitxers. Us proporcionem una còpia dels fitxers a la carpeta output per si no us surt."
   ]
  },
  {
   "cell_type": "code",
   "execution_count": 28,
   "id": "99d6c3dd-0258-4c2d-8142-458602894989",
   "metadata": {},
   "outputs": [
    {
     "name": "stdout",
     "output_type": "stream",
     "text": [
      "             GROUP CODE                    NAME  YEAR     DISEASE  \\\n",
      "7      WHO Regions  afr          African Region  1980  DIPHTHERIA   \n",
      "8      WHO Regions  afr          African Region  1980      YFEVER   \n",
      "9      WHO Regions  afr          African Region  1980    TTETANUS   \n",
      "10     WHO Regions  afr          African Region  1980   PERTUSSIS   \n",
      "11     WHO Regions  afr          African Region  1980    NTETANUS   \n",
      "...            ...  ...                     ...   ...         ...   \n",
      "72071  WHO Regions  wpr  Western Pacific Region  2020    NTETANUS   \n",
      "72072  WHO Regions  wpr  Western Pacific Region  2020       POLIO   \n",
      "72073  WHO Regions  wpr  Western Pacific Region  2020      JAPENC   \n",
      "72074  WHO Regions  wpr  Western Pacific Region  2020         CRS   \n",
      "72075  WHO Regions  wpr  Western Pacific Region  2020    TTETANUS   \n",
      "\n",
      "               DISEASE_DESCRIPTION                     DENOMINATOR  \\\n",
      "7                       Diphtheria  per 1,000,000 total population   \n",
      "8                     Yellow fever  per 1,000,000 total population   \n",
      "9                    Total tetanus  per 1,000,000 total population   \n",
      "10                       Pertussis  per 1,000,000 total population   \n",
      "11                Neonatal tetanus            per 1000 live births   \n",
      "...                            ...                             ...   \n",
      "72071             Neonatal tetanus            per 1000 live births   \n",
      "72072                Poliomyelitis    per 1,000,000 <15 population   \n",
      "72073        Japanese encephalitis  per 1,000,000 total population   \n",
      "72074  Congenital rubella syndrome          per 10,000 live births   \n",
      "72075                Total tetanus  per 1,000,000 total population   \n",
      "\n",
      "       INCIDENCE_RATE  \n",
      "7                25.0  \n",
      "8                 0.3  \n",
      "9                51.0  \n",
      "10             1180.0  \n",
      "11                0.6  \n",
      "...               ...  \n",
      "72071             0.0  \n",
      "72072             0.0  \n",
      "72073             0.3  \n",
      "72074             0.0  \n",
      "72075             0.6  \n",
      "\n",
      "[2209 rows x 8 columns]\n",
      "GROUP                   object\n",
      "CODE                    object\n",
      "NAME                    object\n",
      "YEAR                     int64\n",
      "DISEASE                 object\n",
      "DISEASE_DESCRIPTION     object\n",
      "DENOMINATOR             object\n",
      "INCIDENCE_RATE         float64\n",
      "dtype: object\n"
     ]
    }
   ],
   "source": [
    "mask_regions = incidence_new.loc[:,\"GROUP\"] == \"WHO Regions\"\n",
    "\n",
    "df_incidence_regions = incidence_new.loc[mask_regions,:]\n",
    "\n",
    "df_incidence_regions.to_csv('incidence_rate_2020_regions.csv', index=False)\n",
    "\n",
    "print(df_incidence_regions)\n",
    "\n",
    "mask_countries = incidence_new.loc[:,\"GROUP\"] == \"Countries\"\n",
    "\n",
    "df_incidence_countries = incidence_new.loc[mask_countries,:]\n",
    "\n",
    "print(df_incidence_countries.dtypes)\n",
    "\n",
    "df_incidence_countries.to_csv('incidence_rate_2020_countries.csv', index=False, sep=';', decimal=\",\")"
   ]
  },
  {
   "cell_type": "code",
   "execution_count": 29,
   "id": "bc110268",
   "metadata": {},
   "outputs": [
    {
     "data": {
      "text/plain": [
       "Countries      69553\n",
       "WHO Regions     2209\n",
       "Global           376\n",
       "Name: GROUP, dtype: int64"
      ]
     },
     "execution_count": 29,
     "metadata": {},
     "output_type": "execute_result"
    }
   ],
   "source": [
    "incidence_new.loc[:,\"GROUP\"].value_counts()"
   ]
  },
  {
   "cell_type": "markdown",
   "id": "a05cb88e-c05b-46f2-8f40-4cec26c66f02",
   "metadata": {},
   "source": [
    "### Gràfics d'Outliers.\n",
    "\n",
    "Des del fitxer <em>incidence_rate_2021_countries.csv<em> crea un gràfic plotbox de les enfermetats que es mesuren amb el denominador:\n",
    "'per 1,000,000 total population'.\n",
    "\n",
    "<em>Pista: Recomanem fer-lo amb seaborn, que permet seleccionar quina fila i columna volem posar al gràfic<em>"
   ]
  },
  {
   "cell_type": "code",
   "execution_count": 30,
   "id": "74461132-e4e1-4978-805d-0fde75b502fd",
   "metadata": {},
   "outputs": [
    {
     "name": "stdout",
     "output_type": "stream",
     "text": [
      "49763\n",
      "GROUP                   object\n",
      "CODE                    object\n",
      "NAME                    object\n",
      "YEAR                     int64\n",
      "DISEASE                 object\n",
      "DISEASE_DESCRIPTION     object\n",
      "DENOMINATOR             object\n",
      "INCIDENCE_RATE         float64\n",
      "dtype: object\n"
     ]
    },
    {
     "data": {
      "image/png": "[encoded data removed]",
      "text/plain": [
       "<Figure size 432x288 with 1 Axes>"
      ]
     },
     "metadata": {
      "needs_background": "light"
     },
     "output_type": "display_data"
    }
   ],
   "source": [
    "# Solució 1.\n",
    "incidence_plot = df_incidence_countries.query(\"DENOMINATOR == 'per 1,000,000 total population'\")\n",
    "\n",
    "print(len(incidence_plot))\n",
    "\n",
    "print(incidence_plot.dtypes)\n",
    "\n",
    "df_incidence_countries.loc[:,'INCIDENCE_RATE'].plot.box().figsize=(12, 3)\n",
    "    "
   ]
  },
  {
   "cell_type": "code",
   "execution_count": 31,
   "id": "cc76f0ca",
   "metadata": {},
   "outputs": [
    {
     "data": {
      "text/plain": [
       "<AxesSubplot:xlabel='INCIDENCE_RATE', ylabel='DISEASE'>"
      ]
     },
     "execution_count": 31,
     "metadata": {},
     "output_type": "execute_result"
    },
    {
     "data": {
      "image/png": "[encoded data removed]",
      "text/plain": [
       "<Figure size 432x288 with 1 Axes>"
      ]
     },
     "metadata": {
      "needs_background": "light"
     },
     "output_type": "display_data"
    }
   ],
   "source": [
    "# Solució 2.\n",
    "incidence_plot_2 = df_incidence_countries.query(\"DENOMINATOR == 'per 1,000,000 total population'\")\n",
    "\n",
    "sns.boxplot(data=incidence_plot_2, x='INCIDENCE_RATE', y='DISEASE', showmeans=True)"
   ]
  },
  {
   "cell_type": "markdown",
   "id": "6dbc86c8",
   "metadata": {},
   "source": [
    "### Ara, fes un plotbox de les enfermetats a Espanya. També, pel mateix denominador d'abans. 'per 1,000,000 total population'"
   ]
  },
  {
   "cell_type": "code",
   "execution_count": 32,
   "id": "49b79018",
   "metadata": {},
   "outputs": [
    {
     "name": "stdout",
     "output_type": "stream",
     "text": [
      "           GROUP CODE     NAME  YEAR     DISEASE    DISEASE_DESCRIPTION  \\\n",
      "770    Countries  MAR  Morocco  1980   PERTUSSIS              Pertussis   \n",
      "771    Countries  MAR  Morocco  1980  DIPHTHERIA             Diphtheria   \n",
      "772    Countries  MAR  Morocco  1980     MEASLES                Measles   \n",
      "773    Countries  MAR  Morocco  1980    TTETANUS          Total tetanus   \n",
      "775    Countries  MAR  Morocco  1980      YFEVER           Yellow fever   \n",
      "...          ...  ...      ...   ...         ...                    ...   \n",
      "69207  Countries  MAR  Morocco  2019   PERTUSSIS              Pertussis   \n",
      "69208  Countries  MAR  Morocco  2019     MEASLES                Measles   \n",
      "69209  Countries  MAR  Morocco  2019  DIPHTHERIA             Diphtheria   \n",
      "69211  Countries  MAR  Morocco  2019       MUMPS                  Mumps   \n",
      "69213  Countries  MAR  Morocco  2019      JAPENC  Japanese encephalitis   \n",
      "\n",
      "                          DENOMINATOR  INCIDENCE_RATE  \n",
      "770    per 1,000,000 total population           744.0  \n",
      "771    per 1,000,000 total population             2.2  \n",
      "772    per 1,000,000 total population          4348.1  \n",
      "773    per 1,000,000 total population             4.1  \n",
      "775    per 1,000,000 total population             NaN  \n",
      "...                               ...             ...  \n",
      "69207  per 1,000,000 total population             NaN  \n",
      "69208  per 1,000,000 total population             NaN  \n",
      "69209  per 1,000,000 total population             NaN  \n",
      "69211  per 1,000,000 total population             NaN  \n",
      "69213  per 1,000,000 total population             NaN  \n",
      "\n",
      "[256 rows x 8 columns]\n"
     ]
    },
    {
     "data": {
      "image/png": "[encoded data removed]",
      "text/plain": [
       "<Figure size 432x288 with 1 Axes>"
      ]
     },
     "metadata": {
      "needs_background": "light"
     },
     "output_type": "display_data"
    }
   ],
   "source": [
    "df_incidence_countries_esp = df_incidence_countries.query(\"NAME == 'Morocco'\")\n",
    "df_incidence_countries_esp = df_incidence_countries_esp.query(\"DENOMINATOR == 'per 1,000,000 total population'\")\n",
    "\n",
    "sns.boxplot(data=df_incidence_countries_esp, x='INCIDENCE_RATE', y='DISEASE')\n",
    "\n",
    "print(df_incidence_countries_esp)"
   ]
  },
  {
   "cell_type": "markdown",
   "id": "ceb1f275-35b8-4fed-aae0-7d3d7dbfa043",
   "metadata": {},
   "source": [
    "### Part 2 - Fes una gràfica on es vegi la incidència de 3 enfermetats a Espanya des del 1980 fins el 2020, ambdós inclosos. (2,5 punts)\n",
    "\n",
    "Per exemple: MEASLES, MUMPS, PERTUSSIS. \n",
    "<em>Serien: paperes, xarampió, tos ferina.</em>"
   ]
  },
  {
   "cell_type": "code",
   "execution_count": 33,
   "id": "084f5b7f-a60f-47e4-9cdc-0cbf9a0aee49",
   "metadata": {},
   "outputs": [
    {
     "data": {
      "text/plain": [
       "<AxesSubplot:xlabel='YEAR', ylabel='INCIDENCE_RATE'>"
      ]
     },
     "execution_count": 33,
     "metadata": {},
     "output_type": "execute_result"
    },
    {
     "data": {
      "image/png": "[encoded data removed]",
      "text/plain": [
       "<Figure size 432x288 with 1 Axes>"
      ]
     },
     "metadata": {
      "needs_background": "light"
     },
     "output_type": "display_data"
    }
   ],
   "source": [
    "\n",
    "sns.lineplot(data=df_incidence_countries_esp, x=\"YEAR\", y=\"INCIDENCE_RATE\", hue=\"DISEASE\")\n",
    "\n",
    "# la grafica tiene algunos cortes y no sabría decir porque, podría ser que no tuvieran casos \n",
    "# o que por algún motivo no pudieron medir la incidencia durante ese periodo. "
   ]
  },
  {
   "cell_type": "markdown",
   "id": "5cff9289",
   "metadata": {},
   "source": [
    "## Part 3. Crea un gràfic que serveixin per comparar les dades de sarampió (measles) a Espanya i almenys a 2 països més. (2 punts)"
   ]
  },
  {
   "cell_type": "code",
   "execution_count": 34,
   "id": "a478bd48",
   "metadata": {},
   "outputs": [
    {
     "name": "stdout",
     "output_type": "stream",
     "text": [
      "['Algeria' 'Egypt' 'Spain' 'France' 'Italy' 'Morocco' 'Malta' 'Portugal'\n",
      " 'Tunisia']\n"
     ]
    },
    {
     "data": {
      "text/plain": [
       "<AxesSubplot:xlabel='YEAR', ylabel='INCIDENCE_RATE'>"
      ]
     },
     "execution_count": 34,
     "metadata": {},
     "output_type": "execute_result"
    },
    {
     "data": {
      "image/png": "[encoded data removed]",
      "text/plain": [
       "<Figure size 1440x720 with 1 Axes>"
      ]
     },
     "metadata": {
      "needs_background": "light"
     },
     "output_type": "display_data"
    }
   ],
   "source": [
    "df_incidence_countries_measles = copy.deepcopy(df_incidence_countries)\n",
    "\n",
    "# Only Measles\n",
    "df_incidence_countries_measles = df_incidence_countries_measles.query(\"DISEASE == 'MEASLES'\")\n",
    "\n",
    "#Only some countries.\n",
    "med_countries: list[str] = ['Spain', 'France', 'Morocco', 'Portugal', 'Algeria', 'Egypt', 'Italy', 'Malta', 'Tunisia']\n",
    "\n",
    "#'Croatia', 'Türkiye', 'Greece', 'Lebanon' \n",
    "\n",
    "df_incidence_countries_measles = df_incidence_countries_measles[df_incidence_countries_measles['NAME'].isin(med_countries)]\n",
    "\n",
    "print(df_incidence_countries_measles['NAME'].unique())\n",
    "\n",
    "plt.figure(figsize=(20, 10))\n",
    "sns.barplot(data=df_incidence_countries_measles, x=\"YEAR\", y=\"INCIDENCE_RATE\", hue=\"NAME\")\n"
   ]
  },
  {
   "cell_type": "markdown",
   "id": "a040e220-f3cd-4034-87e0-083018728bd4",
   "metadata": {},
   "source": [
    "## Part 4. Scatterplots i/o recta de regressió entre parelles d'enfermetats en un país. (2 punts)\n",
    "\n",
    "Ens demanen comparar aquestes parelles d'enfermetats; per saber si existeix correlació entre elles.\n",
    "\n",
    "Com a mínim ens demanen estudiar aquestes:\n",
    "\n",
    "1. PERTUSSIS i MEASELS. \n",
    "2. MUMPS i PERTUSSIS."
   ]
  },
  {
   "cell_type": "markdown",
   "id": "2ca624d7-4342-46f6-847a-bdfcd898ed29",
   "metadata": {},
   "source": [
    "### Veus alguna correlació?"
   ]
  },
  {
   "cell_type": "markdown",
   "id": "ac0f67aa",
   "metadata": {},
   "source": [
    "#### Primer, pinto una recta de regressió únicament del xarampió."
   ]
  },
  {
   "cell_type": "code",
   "execution_count": 35,
   "id": "001574bd-cb3f-47f0-a095-5a3b14818cb0",
   "metadata": {},
   "outputs": [
    {
     "name": "stdout",
     "output_type": "stream",
     "text": [
      "       YEAR  INCIDENCE_RATE\n",
      "395    1980          3854.9\n",
      "1775   1981          3863.1\n",
      "3153   1982          4176.0\n",
      "4530   1983          7923.0\n",
      "5914   1984          1008.5\n",
      "7290   1985          2082.5\n",
      "8668   1986          5664.8\n",
      "10047  1987           902.2\n",
      "11428  1988           581.5\n",
      "12803  1989           841.2\n",
      "14186  1990           552.3\n",
      "15562  1991           622.0\n",
      "16943  1992           620.6\n",
      "18321  1993           303.2\n",
      "19700  1994           171.4\n",
      "21080  1995           222.4\n",
      "22457  1996           124.4\n",
      "23857  1997            46.0\n",
      "25264  1998            11.1\n",
      "26796  1999             6.1\n",
      "28679  2000             3.7\n",
      "32517  2002             1.6\n",
      "34479  2003             6.0\n",
      "36467  2004             0.6\n",
      "38459  2005             0.5\n",
      "40460  2006             8.1\n",
      "42611  2007             5.9\n",
      "44774  2008             6.4\n",
      "46866  2009             0.9\n",
      "48992  2010             6.4\n",
      "51122  2011            80.7\n",
      "53289  2012            25.6\n",
      "55436  2013             2.8\n",
      "57602  2014             3.3\n",
      "59742  2015             2.5\n",
      "61905  2016             0.8\n",
      "64062  2017             3.5\n",
      "66288  2018             4.8\n",
      "68622  2019             6.2\n",
      "70800  2020             1.9\n"
     ]
    },
    {
     "data": {
      "text/plain": [
       "<seaborn.axisgrid.FacetGrid at 0x7fa1a67b02b0>"
      ]
     },
     "execution_count": 35,
     "metadata": {},
     "output_type": "execute_result"
    },
    {
     "data": {
      "text/plain": [
       "<Figure size 1440x720 with 0 Axes>"
      ]
     },
     "metadata": {},
     "output_type": "display_data"
    },
    {
     "data": {
      "image/png": "[encoded data removed]",
      "text/plain": [
       "<Figure size 360x360 with 1 Axes>"
      ]
     },
     "metadata": {
      "needs_background": "light"
     },
     "output_type": "display_data"
    }
   ],
   "source": [
    "# incidence_graph.loc[:,\"TTETANUS\"]\n",
    "# sns.scatterplot();\n",
    "\n",
    "df_incidence_measels = df_incidence_countries.query(\"NAME == 'Spain'\")\n",
    "df_incidence_measels = df_incidence_measels.query(\"DISEASE == 'MEASLES'\")\n",
    "df_incidence_measels = df_incidence_measels.loc[:,['YEAR','INCIDENCE_RATE']]\n",
    "\n",
    "print(df_incidence_measels)\n",
    "\n",
    "plt.figure(figsize=(20, 10))\n",
    "# sns.scatterplot(x='YEAR',y='INCIDENCE_RATE',data=df_incidence_measels)\n",
    "# los puntos són muy dispersos y no podriamos decir que hay una correlación entre las dos graficas\n",
    "sns.lmplot(x='YEAR',y='INCIDENCE_RATE',data=df_incidence_measels,fit_reg=True)\n",
    "# En este caso los puntos están un poco menos dispersos, pero tampoco se podría decir que hay una correlación\n"
   ]
  },
  {
   "cell_type": "code",
   "execution_count": 36,
   "id": "4c9739ad",
   "metadata": {},
   "outputs": [
    {
     "name": "stdout",
     "output_type": "stream",
     "text": [
      "      MEASLES\n",
      "YEAR         \n",
      "1980   3854.9\n",
      "1981   3863.1\n",
      "1982   4176.0\n",
      "1983   7923.0\n",
      "1984   1008.5\n",
      "1985   2082.5\n",
      "1986   5664.8\n",
      "1987    902.2\n",
      "1988    581.5\n",
      "1989    841.2\n",
      "1990    552.3\n",
      "1991    622.0\n",
      "1992    620.6\n",
      "1993    303.2\n",
      "1994    171.4\n",
      "1995    222.4\n",
      "1996    124.4\n",
      "1997     46.0\n",
      "1998     11.1\n",
      "1999      6.1\n",
      "2000      3.7\n",
      "2002      1.6\n",
      "2003      6.0\n",
      "2004      0.6\n",
      "2005      0.5\n",
      "2006      8.1\n",
      "2007      5.9\n",
      "2008      6.4\n",
      "2009      0.9\n",
      "2010      6.4\n",
      "2011     80.7\n",
      "2012     25.6\n",
      "2013      2.8\n",
      "2014      3.3\n",
      "2015      2.5\n",
      "2016      0.8\n",
      "2017      3.5\n",
      "2018      4.8\n",
      "2019      6.2\n",
      "2020      1.9\n",
      "      PERTUSSIS\n",
      "YEAR           \n",
      "1980        NaN\n",
      "1981        NaN\n",
      "1982     1320.7\n",
      "1983      941.4\n",
      "1984      932.1\n",
      "1985     1563.6\n",
      "1986     1437.3\n",
      "1987      692.0\n",
      "1988      371.6\n",
      "1989      849.1\n",
      "1990      257.0\n",
      "1991      212.9\n",
      "1992      292.3\n",
      "1993      157.6\n",
      "1994      126.6\n",
      "1995       94.0\n",
      "1996       89.6\n",
      "1997       28.3\n",
      "1998        7.8\n",
      "1999       10.3\n",
      "2000       22.6\n",
      "2002        8.2\n",
      "2003       12.0\n",
      "2004        NaN\n",
      "2005        6.7\n",
      "2006        8.5\n",
      "2007       12.2\n",
      "2008       12.2\n",
      "2009        8.4\n",
      "2010       15.7\n",
      "2011       65.6\n",
      "2012       73.1\n",
      "2013       49.9\n",
      "2014        NaN\n",
      "2015        NaN\n",
      "2016      104.9\n",
      "2017       99.3\n",
      "2018       78.5\n",
      "2019       65.8\n",
      "2020        5.2\n",
      "      MEASLES  PERTUSSIS\n",
      "YEAR                    \n",
      "1980   3854.9        NaN\n",
      "1981   3863.1        NaN\n",
      "1982   4176.0     1320.7\n",
      "1983   7923.0      941.4\n",
      "1984   1008.5      932.1\n",
      "1985   2082.5     1563.6\n",
      "1986   5664.8     1437.3\n",
      "1987    902.2      692.0\n",
      "1988    581.5      371.6\n",
      "1989    841.2      849.1\n",
      "1990    552.3      257.0\n",
      "1991    622.0      212.9\n",
      "1992    620.6      292.3\n",
      "1993    303.2      157.6\n",
      "1994    171.4      126.6\n",
      "1995    222.4       94.0\n",
      "1996    124.4       89.6\n",
      "1997     46.0       28.3\n",
      "1998     11.1        7.8\n",
      "1999      6.1       10.3\n",
      "2000      3.7       22.6\n",
      "2002      1.6        8.2\n",
      "2003      6.0       12.0\n",
      "2004      0.6        NaN\n",
      "2005      0.5        6.7\n",
      "2006      8.1        8.5\n",
      "2007      5.9       12.2\n",
      "2008      6.4       12.2\n",
      "2009      0.9        8.4\n",
      "2010      6.4       15.7\n",
      "2011     80.7       65.6\n",
      "2012     25.6       73.1\n",
      "2013      2.8       49.9\n",
      "2014      3.3        NaN\n",
      "2015      2.5        NaN\n",
      "2016      0.8      104.9\n",
      "2017      3.5       99.3\n",
      "2018      4.8       78.5\n",
      "2019      6.2       65.8\n",
      "2020      1.9        5.2\n"
     ]
    },
    {
     "data": {
      "text/plain": [
       "<seaborn.axisgrid.FacetGrid at 0x7fa1acc8b100>"
      ]
     },
     "execution_count": 36,
     "metadata": {},
     "output_type": "execute_result"
    },
    {
     "data": {
      "image/png": "[encoded data removed]",
      "text/plain": [
       "<Figure size 360x360 with 1 Axes>"
      ]
     },
     "metadata": {
      "needs_background": "light"
     },
     "output_type": "display_data"
    }
   ],
   "source": [
    "## Per a poder fer bé la comparació de les 2 enfermetats.\n",
    "def df_incidence_rate_by_disease(diseases:str, df:pd.DataFrame): \n",
    "    result = df.query(\"NAME == 'Spain'\")\n",
    "    result = result.query(\"DISEASE == @diseases\")\n",
    "    result = result.loc[:,['YEAR','INCIDENCE_RATE']]\n",
    "    result = result.set_index(\"YEAR\")\n",
    "    result = result.rename(columns={\"INCIDENCE_RATE\":diseases})\n",
    "    return result\n",
    "\n",
    "df_incidence_measels = df_incidence_rate_by_disease('MEASLES',df_incidence_countries)\n",
    "df_incidence_pertussis = df_incidence_rate_by_disease('PERTUSSIS',df_incidence_countries)\n",
    "\n",
    "print(df_incidence_measels)\n",
    "\n",
    "print(df_incidence_pertussis)\n",
    "\n",
    "corr_measels_pert = pd.concat([df_incidence_measels, df_incidence_pertussis], axis=1, join=\"inner\")\n",
    "\n",
    "print(corr_measels_pert)\n",
    "\n",
    "sns.lmplot(x='PERTUSSIS',y='MEASLES',data=corr_measels_pert,fit_reg=True)"
   ]
  },
  {
   "cell_type": "code",
   "execution_count": 37,
   "id": "44c5a70a",
   "metadata": {},
   "outputs": [
    {
     "data": {
      "text/plain": [
       "<seaborn.axisgrid.FacetGrid at 0x7fa1ac190e20>"
      ]
     },
     "execution_count": 37,
     "metadata": {},
     "output_type": "execute_result"
    },
    {
     "data": {
      "image/png": "[encoded data removed]",
      "text/plain": [
       "<Figure size 360x360 with 1 Axes>"
      ]
     },
     "metadata": {
      "needs_background": "light"
     },
     "output_type": "display_data"
    }
   ],
   "source": [
    "df_incidence_mumps = df_incidence_rate_by_disease('MUMPS',df_incidence_countries)\n",
    "\n",
    "corr_mumps_pert = pd.concat([df_incidence_mumps, df_incidence_pertussis], axis=1, join=\"inner\")\n",
    "\n",
    "sns.lmplot(x='PERTUSSIS',y='MUMPS',data=corr_mumps_pert,fit_reg=True)"
   ]
  },
  {
   "cell_type": "markdown",
   "id": "cb15f9af",
   "metadata": {},
   "source": [
    "#### Opció 2. Correlation Matrix (pendent)\n",
    "\n",
    "la primera part (crear els 3 dataframes) l'hem de fer igual.\n",
    "\n",
    "Un cop tenim els 3 dataframes, els podem concatenar.\n"
   ]
  },
  {
   "cell_type": "code",
   "execution_count": 38,
   "id": "0270a1e7",
   "metadata": {},
   "outputs": [
    {
     "data": {
      "text/plain": [
       "<AxesSubplot:>"
      ]
     },
     "execution_count": 38,
     "metadata": {},
     "output_type": "execute_result"
    },
    {
     "data": {
      "image/png": "[encoded data removed]",
      "text/plain": [
       "<Figure size 864x1296 with 2 Axes>"
      ]
     },
     "metadata": {
      "needs_background": "light"
     },
     "output_type": "display_data"
    }
   ],
   "source": [
    "corr_matrix = pd.concat([df_incidence_mumps, df_incidence_pertussis, df_incidence_measels], axis=1, join=\"inner\")\n",
    "\n",
    "plt.figure(figsize=(12, 18))\n",
    "sns.heatmap(corr_matrix.corr(method='pearson'), annot=True)"
   ]
  },
  {
   "cell_type": "markdown",
   "id": "0327ca20-e6c4-4635-b258-b064c191158d",
   "metadata": {},
   "source": [
    "### Creus que hi ha una bona correlació entre aquests parells d'enfermetats ? "
   ]
  },
  {
   "cell_type": "markdown",
   "id": "45a94083",
   "metadata": {},
   "source": [
    "#### Tos Farina - Xaramipió. \n",
    "Hi ha certa correlació, excepte en els moments que hi ha hagut més casos.\n",
    "\n",
    "#### Tos Farina - Paperes. \n",
    "No es detecta cap correlació, tots els punts molt separats de la recta."
   ]
  }
 ],
 "metadata": {
  "kernelspec": {
   "display_name": "Python 3.10.4 ('bio')",
   "language": "python",
   "name": "python3"
  },
  "language_info": {
   "codemirror_mode": {
    "name": "ipython",
    "version": 3
   },
   "file_extension": ".py",
   "mimetype": "text/x-python",
   "name": "python",
   "nbconvert_exporter": "python",
   "pygments_lexer": "ipython3",
   "version": "3.10.4"
  },
  "toc-autonumbering": true,
  "vscode": {
   "interpreter": {
    "hash": "75644d1bbe802a7a08b91152a9fb1d5024e3b0b7f6a281757a9820df136ccfae"
   }
  }
 },
 "nbformat": 4,
 "nbformat_minor": 5
}
